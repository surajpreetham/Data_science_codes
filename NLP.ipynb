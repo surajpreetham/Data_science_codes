{
  "nbformat": 4,
  "nbformat_minor": 0,
  "metadata": {
    "colab": {
      "name": "Untitled3.ipynb",
      "provenance": [],
      "authorship_tag": "ABX9TyPekY4Ht7Z2R6i1/Cst2/e+",
      "include_colab_link": true
    },
    "kernelspec": {
      "name": "python3",
      "display_name": "Python 3"
    },
    "language_info": {
      "name": "python"
    }
  },
  "cells": [
    {
      "cell_type": "markdown",
      "metadata": {
        "id": "view-in-github",
        "colab_type": "text"
      },
      "source": [
        "<a href=\"https://colab.research.google.com/github/surajpreetham/Data_science_codes/blob/main/NLP.ipynb\" target=\"_parent\"><img src=\"https://colab.research.google.com/assets/colab-badge.svg\" alt=\"Open In Colab\"/></a>"
      ]
    },
    {
      "cell_type": "code",
      "execution_count": 3,
      "metadata": {
        "colab": {
          "base_uri": "https://localhost:8080/"
        },
        "id": "pZXZkiSX-xtM",
        "outputId": "ca859c3f-1e3e-4602-e69a-05ff8161b11d"
      },
      "outputs": [
        {
          "output_type": "stream",
          "name": "stdout",
          "text": [
            "Looking in indexes: https://pypi.org/simple, https://us-python.pkg.dev/colab-wheels/public/simple/\n",
            "Requirement already satisfied: nltk in /usr/local/lib/python3.7/dist-packages (3.7)\n",
            "Requirement already satisfied: joblib in /usr/local/lib/python3.7/dist-packages (from nltk) (1.1.0)\n",
            "Requirement already satisfied: click in /usr/local/lib/python3.7/dist-packages (from nltk) (7.1.2)\n",
            "Requirement already satisfied: tqdm in /usr/local/lib/python3.7/dist-packages (from nltk) (4.64.0)\n",
            "Requirement already satisfied: regex>=2021.8.3 in /usr/local/lib/python3.7/dist-packages (from nltk) (2022.6.2)\n"
          ]
        }
      ],
      "source": [
        "!pip install nltk"
      ]
    },
    {
      "cell_type": "code",
      "source": [
        "paragraph = \"\"\"Avul Pakir Jainulabdeen Abdul Kalam was born on 15 October 1931, to a Tamil Muslim family in the pilgrimage centre of Rameswaram on Pamban Island, then in the Madras Presidency and now in the State of Tamil Nadu. His father Jainulabdeen Marakayar was a boat owner and imam of a local mosque;[9] his mother Ashiamma was a housewife.[10][11][12][13] His father owned a ferry that took Hindu pilgrims back and forth between Rameswaram and the now uninhabited Dhanushkodi.[14][15] Kalam was the youngest of four brothers and one sister in his family.[16][17][18] His ancestors had been wealthy Marakayar traders and landowners, with numerous properties and large tracts of land. Even though his ancestors had been wealthy Marakayar traders, the family had lost most of its fortunes by the 1920s and was poverty-stricken by the time Kalam was born. Marakayar are a Muslim ethnic found in coastal Tamil Nadu and Sri Lanka who claim descendance from Arab traders and local women. Their business had involved trading groceries between the mainland and the island and to and from Sri Lanka, as well as ferrying pilgrims between the mainland and Pamban. As a young boy he had to sell newspapers in order to add to the family's meager income. With the opening of the Pamban Bridge to the mainland in 1914, however, the businesses failed and the family fortune and properties were lost over time, apart from the ancestral home.[19][20][21]\n",
        "\n",
        "In his school years, Kalam had average grades but was described as a bright and hardworking student who had a strong desire to learn. He spent hours on his studies, especially mathematics.[21] After completing his education at the Schwartz Higher Secondary School, Ramanathapuram, Kalam went on to attend Saint Joseph's College, Tiruchirappalli, then affiliated with the University of Madras, from where he graduated in physics in 1954.[22] He moved to Madras in 1955 to study aerospace engineering in Madras Institute of Technology.[13] While Kalam was working on a senior class project, the Dean was dissatisfied with his lack of progress and threatened to revoke his scholarship unless the project was finished within the next three days. Kalam met the deadline, impressing the Dean, who later said to him, \"I was putting you under stress and asking you to meet a difficult deadline\".[23] He narrowly missed achieving his dream of becoming a fighter pilot, as he placed ninth in qualifiers, and only eight positions were available in the IAF.\"\"\""
      ],
      "metadata": {
        "id": "5JW4BQGj_NVj"
      },
      "execution_count": 4,
      "outputs": []
    },
    {
      "cell_type": "code",
      "source": [
        "paragraph"
      ],
      "metadata": {
        "colab": {
          "base_uri": "https://localhost:8080/",
          "height": 127
        },
        "id": "vV8L2icv_g12",
        "outputId": "ed1750cf-1ba2-424b-f616-3da6c2ae1427"
      },
      "execution_count": 5,
      "outputs": [
        {
          "output_type": "execute_result",
          "data": {
            "text/plain": [
              "'Avul Pakir Jainulabdeen Abdul Kalam was born on 15 October 1931, to a Tamil Muslim family in the pilgrimage centre of Rameswaram on Pamban Island, then in the Madras Presidency and now in the State of Tamil Nadu. His father Jainulabdeen Marakayar was a boat owner and imam of a local mosque;[9] his mother Ashiamma was a housewife.[10][11][12][13] His father owned a ferry that took Hindu pilgrims back and forth between Rameswaram and the now uninhabited Dhanushkodi.[14][15] Kalam was the youngest of four brothers and one sister in his family.[16][17][18] His ancestors had been wealthy Marakayar traders and landowners, with numerous properties and large tracts of land. Even though his ancestors had been wealthy Marakayar traders, the family had lost most of its fortunes by the 1920s and was poverty-stricken by the time Kalam was born. Marakayar are a Muslim ethnic found in coastal Tamil Nadu and Sri Lanka who claim descendance from Arab traders and local women. Their business had involved trading groceries between the mainland and the island and to and from Sri Lanka, as well as ferrying pilgrims between the mainland and Pamban. As a young boy he had to sell newspapers in order to add to the family\\'s meager income. With the opening of the Pamban Bridge to the mainland in 1914, however, the businesses failed and the family fortune and properties were lost over time, apart from the ancestral home.[19][20][21]\\n\\nIn his school years, Kalam had average grades but was described as a bright and hardworking student who had a strong desire to learn. He spent hours on his studies, especially mathematics.[21] After completing his education at the Schwartz Higher Secondary School, Ramanathapuram, Kalam went on to attend Saint Joseph\\'s College, Tiruchirappalli, then affiliated with the University of Madras, from where he graduated in physics in 1954.[22] He moved to Madras in 1955 to study aerospace engineering in Madras Institute of Technology.[13] While Kalam was working on a senior class project, the Dean was dissatisfied with his lack of progress and threatened to revoke his scholarship unless the project was finished within the next three days. Kalam met the deadline, impressing the Dean, who later said to him, \"I was putting you under stress and asking you to meet a difficult deadline\".[23] He narrowly missed achieving his dream of becoming a fighter pilot, as he placed ninth in qualifiers, and only eight positions were available in the IAF.'"
            ],
            "application/vnd.google.colaboratory.intrinsic+json": {
              "type": "string"
            }
          },
          "metadata": {},
          "execution_count": 5
        }
      ]
    },
    {
      "cell_type": "code",
      "source": [
        "import nltk\n",
        "from nltk.corpus import stopwords\n",
        "from nltk.corpus import wordnet\n",
        "from nltk.stem import PorterStemmer\n",
        "from nltk.stem import WordNetLemmatizer"
      ],
      "metadata": {
        "id": "dogPKVeY_ji_"
      },
      "execution_count": 6,
      "outputs": []
    },
    {
      "cell_type": "code",
      "source": [
        "nltk.download('punkt')\n",
        "sentences = nltk.sent_tokenize(paragraph)"
      ],
      "metadata": {
        "colab": {
          "base_uri": "https://localhost:8080/"
        },
        "id": "FuBqEY7G_2cO",
        "outputId": "a9e433c3-456f-44ff-9baa-e37a6ef336cd"
      },
      "execution_count": 7,
      "outputs": [
        {
          "output_type": "stream",
          "name": "stderr",
          "text": [
            "[nltk_data] Downloading package punkt to /root/nltk_data...\n",
            "[nltk_data]   Unzipping tokenizers/punkt.zip.\n"
          ]
        }
      ]
    },
    {
      "cell_type": "code",
      "source": [
        "sample = 'He is a good boy with bad friends'\n",
        "sample = nltk.word_tokenize(sample)\n",
        "sample"
      ],
      "metadata": {
        "colab": {
          "base_uri": "https://localhost:8080/"
        },
        "id": "DmEGac0iDsGQ",
        "outputId": "cb431559-ae3a-4599-dca7-f55232c91a9e"
      },
      "execution_count": 8,
      "outputs": [
        {
          "output_type": "execute_result",
          "data": {
            "text/plain": [
              "['He', 'is', 'a', 'good', 'boy', 'with', 'bad', 'friends']"
            ]
          },
          "metadata": {},
          "execution_count": 8
        }
      ]
    },
    {
      "cell_type": "code",
      "source": [
        "print(sentences)"
      ],
      "metadata": {
        "colab": {
          "base_uri": "https://localhost:8080/"
        },
        "id": "8TuiZXoRAC3W",
        "outputId": "3fb848fb-0563-42a3-de37-91d85e0ecf11"
      },
      "execution_count": 9,
      "outputs": [
        {
          "output_type": "stream",
          "name": "stdout",
          "text": [
            "['Avul Pakir Jainulabdeen Abdul Kalam was born on 15 October 1931, to a Tamil Muslim family in the pilgrimage centre of Rameswaram on Pamban Island, then in the Madras Presidency and now in the State of Tamil Nadu.', 'His father Jainulabdeen Marakayar was a boat owner and imam of a local mosque;[9] his mother Ashiamma was a housewife.', '[10][11][12][13] His father owned a ferry that took Hindu pilgrims back and forth between Rameswaram and the now uninhabited Dhanushkodi.', '[14][15] Kalam was the youngest of four brothers and one sister in his family.', '[16][17][18] His ancestors had been wealthy Marakayar traders and landowners, with numerous properties and large tracts of land.', 'Even though his ancestors had been wealthy Marakayar traders, the family had lost most of its fortunes by the 1920s and was poverty-stricken by the time Kalam was born.', 'Marakayar are a Muslim ethnic found in coastal Tamil Nadu and Sri Lanka who claim descendance from Arab traders and local women.', 'Their business had involved trading groceries between the mainland and the island and to and from Sri Lanka, as well as ferrying pilgrims between the mainland and Pamban.', \"As a young boy he had to sell newspapers in order to add to the family's meager income.\", 'With the opening of the Pamban Bridge to the mainland in 1914, however, the businesses failed and the family fortune and properties were lost over time, apart from the ancestral home.', '[19][20][21]\\n\\nIn his school years, Kalam had average grades but was described as a bright and hardworking student who had a strong desire to learn.', 'He spent hours on his studies, especially mathematics.', \"[21] After completing his education at the Schwartz Higher Secondary School, Ramanathapuram, Kalam went on to attend Saint Joseph's College, Tiruchirappalli, then affiliated with the University of Madras, from where he graduated in physics in 1954.\", '[22] He moved to Madras in 1955 to study aerospace engineering in Madras Institute of Technology.', '[13] While Kalam was working on a senior class project, the Dean was dissatisfied with his lack of progress and threatened to revoke his scholarship unless the project was finished within the next three days.', 'Kalam met the deadline, impressing the Dean, who later said to him, \"I was putting you under stress and asking you to meet a difficult deadline\".', '[23] He narrowly missed achieving his dream of becoming a fighter pilot, as he placed ninth in qualifiers, and only eight positions were available in the IAF.']\n"
          ]
        }
      ]
    },
    {
      "cell_type": "code",
      "source": [
        "stemmer = PorterStemmer()\n",
        "lemmatizer = WordNetLemmatizer()"
      ],
      "metadata": {
        "id": "VuIG6bjaAMJB"
      },
      "execution_count": 10,
      "outputs": []
    },
    {
      "cell_type": "code",
      "source": [
        "nltk.download('wordnet')\n",
        "nltk.download('omw-1.4')"
      ],
      "metadata": {
        "colab": {
          "base_uri": "https://localhost:8080/"
        },
        "id": "IhZtxBu2MF08",
        "outputId": "eb95437c-f223-4c2c-a665-2974866ceb08"
      },
      "execution_count": 11,
      "outputs": [
        {
          "output_type": "stream",
          "name": "stderr",
          "text": [
            "[nltk_data] Downloading package wordnet to /root/nltk_data...\n",
            "[nltk_data] Downloading package omw-1.4 to /root/nltk_data...\n"
          ]
        },
        {
          "output_type": "execute_result",
          "data": {
            "text/plain": [
              "True"
            ]
          },
          "metadata": {},
          "execution_count": 11
        }
      ]
    },
    {
      "cell_type": "code",
      "source": [
        "lemmatizer.lemmatize('finally')"
      ],
      "metadata": {
        "colab": {
          "base_uri": "https://localhost:8080/",
          "height": 36
        },
        "id": "Vt1VKYSBL_UU",
        "outputId": "5a9e8ffb-b2f2-4f78-fb93-f43459147290"
      },
      "execution_count": 12,
      "outputs": [
        {
          "output_type": "execute_result",
          "data": {
            "text/plain": [
              "'finally'"
            ],
            "application/vnd.google.colaboratory.intrinsic+json": {
              "type": "string"
            }
          },
          "metadata": {},
          "execution_count": 12
        }
      ]
    },
    {
      "cell_type": "code",
      "source": [
        "stemmer.stem('miscalleneous')"
      ],
      "metadata": {
        "colab": {
          "base_uri": "https://localhost:8080/",
          "height": 36
        },
        "id": "zSj0I5kEASer",
        "outputId": "78bee759-e3d2-4359-b677-7456dfb0cd1e"
      },
      "execution_count": 13,
      "outputs": [
        {
          "output_type": "execute_result",
          "data": {
            "text/plain": [
              "'miscallen'"
            ],
            "application/vnd.google.colaboratory.intrinsic+json": {
              "type": "string"
            }
          },
          "metadata": {},
          "execution_count": 13
        }
      ]
    },
    {
      "cell_type": "code",
      "source": [
        "stemmer.stem('giving')"
      ],
      "metadata": {
        "colab": {
          "base_uri": "https://localhost:8080/",
          "height": 36
        },
        "id": "QfBa5cSKAWNm",
        "outputId": "4e0bfa54-fe83-4680-eafc-e2140d907b60"
      },
      "execution_count": 14,
      "outputs": [
        {
          "output_type": "execute_result",
          "data": {
            "text/plain": [
              "'give'"
            ],
            "application/vnd.google.colaboratory.intrinsic+json": {
              "type": "string"
            }
          },
          "metadata": {},
          "execution_count": 14
        }
      ]
    },
    {
      "cell_type": "code",
      "source": [
        "import re"
      ],
      "metadata": {
        "id": "ukOmxzbRAYmP"
      },
      "execution_count": 15,
      "outputs": []
    },
    {
      "cell_type": "code",
      "source": [
        "corpus = []\n",
        "for i in range(len(sentences)):\n",
        "  review = re.sub('[^a-zA-Z]',' ',sentences[i])\n",
        "  review = review.lower()\n",
        "  corpus.append(review)\n"
      ],
      "metadata": {
        "id": "yfWfMjHtAyQY"
      },
      "execution_count": 16,
      "outputs": []
    },
    {
      "cell_type": "code",
      "source": [
        "corpus"
      ],
      "metadata": {
        "colab": {
          "base_uri": "https://localhost:8080/"
        },
        "id": "clbe-WiWDJI2",
        "outputId": "e63f7703-7873-4fd9-a076-e0ebd4880e8b"
      },
      "execution_count": 17,
      "outputs": [
        {
          "output_type": "execute_result",
          "data": {
            "text/plain": [
              "['avul pakir jainulabdeen abdul kalam was born on    october       to a tamil muslim family in the pilgrimage centre of rameswaram on pamban island  then in the madras presidency and now in the state of tamil nadu ',\n",
              " 'his father jainulabdeen marakayar was a boat owner and imam of a local mosque     his mother ashiamma was a housewife ',\n",
              " '                 his father owned a ferry that took hindu pilgrims back and forth between rameswaram and the now uninhabited dhanushkodi ',\n",
              " '         kalam was the youngest of four brothers and one sister in his family ',\n",
              " '             his ancestors had been wealthy marakayar traders and landowners  with numerous properties and large tracts of land ',\n",
              " 'even though his ancestors had been wealthy marakayar traders  the family had lost most of its fortunes by the     s and was poverty stricken by the time kalam was born ',\n",
              " 'marakayar are a muslim ethnic found in coastal tamil nadu and sri lanka who claim descendance from arab traders and local women ',\n",
              " 'their business had involved trading groceries between the mainland and the island and to and from sri lanka  as well as ferrying pilgrims between the mainland and pamban ',\n",
              " 'as a young boy he had to sell newspapers in order to add to the family s meager income ',\n",
              " 'with the opening of the pamban bridge to the mainland in       however  the businesses failed and the family fortune and properties were lost over time  apart from the ancestral home ',\n",
              " '              in his school years  kalam had average grades but was described as a bright and hardworking student who had a strong desire to learn ',\n",
              " 'he spent hours on his studies  especially mathematics ',\n",
              " '     after completing his education at the schwartz higher secondary school  ramanathapuram  kalam went on to attend saint joseph s college  tiruchirappalli  then affiliated with the university of madras  from where he graduated in physics in      ',\n",
              " '     he moved to madras in      to study aerospace engineering in madras institute of technology ',\n",
              " '     while kalam was working on a senior class project  the dean was dissatisfied with his lack of progress and threatened to revoke his scholarship unless the project was finished within the next three days ',\n",
              " 'kalam met the deadline  impressing the dean  who later said to him   i was putting you under stress and asking you to meet a difficult deadline  ',\n",
              " '     he narrowly missed achieving his dream of becoming a fighter pilot  as he placed ninth in qualifiers  and only eight positions were available in the iaf ']"
            ]
          },
          "metadata": {},
          "execution_count": 17
        }
      ]
    },
    {
      "cell_type": "code",
      "source": [
        "for i in corpus:\n",
        "  print(i)"
      ],
      "metadata": {
        "colab": {
          "base_uri": "https://localhost:8080/"
        },
        "id": "4AsBvp6KDR3-",
        "outputId": "9458d637-6d1b-4217-fb9f-5ff8b29424d5"
      },
      "execution_count": 18,
      "outputs": [
        {
          "output_type": "stream",
          "name": "stdout",
          "text": [
            "avul pakir jainulabdeen abdul kalam was born on    october       to a tamil muslim family in the pilgrimage centre of rameswaram on pamban island  then in the madras presidency and now in the state of tamil nadu \n",
            "his father jainulabdeen marakayar was a boat owner and imam of a local mosque     his mother ashiamma was a housewife \n",
            "                 his father owned a ferry that took hindu pilgrims back and forth between rameswaram and the now uninhabited dhanushkodi \n",
            "         kalam was the youngest of four brothers and one sister in his family \n",
            "             his ancestors had been wealthy marakayar traders and landowners  with numerous properties and large tracts of land \n",
            "even though his ancestors had been wealthy marakayar traders  the family had lost most of its fortunes by the     s and was poverty stricken by the time kalam was born \n",
            "marakayar are a muslim ethnic found in coastal tamil nadu and sri lanka who claim descendance from arab traders and local women \n",
            "their business had involved trading groceries between the mainland and the island and to and from sri lanka  as well as ferrying pilgrims between the mainland and pamban \n",
            "as a young boy he had to sell newspapers in order to add to the family s meager income \n",
            "with the opening of the pamban bridge to the mainland in       however  the businesses failed and the family fortune and properties were lost over time  apart from the ancestral home \n",
            "              in his school years  kalam had average grades but was described as a bright and hardworking student who had a strong desire to learn \n",
            "he spent hours on his studies  especially mathematics \n",
            "     after completing his education at the schwartz higher secondary school  ramanathapuram  kalam went on to attend saint joseph s college  tiruchirappalli  then affiliated with the university of madras  from where he graduated in physics in      \n",
            "     he moved to madras in      to study aerospace engineering in madras institute of technology \n",
            "     while kalam was working on a senior class project  the dean was dissatisfied with his lack of progress and threatened to revoke his scholarship unless the project was finished within the next three days \n",
            "kalam met the deadline  impressing the dean  who later said to him   i was putting you under stress and asking you to meet a difficult deadline  \n",
            "     he narrowly missed achieving his dream of becoming a fighter pilot  as he placed ninth in qualifiers  and only eight positions were available in the iaf \n"
          ]
        }
      ]
    },
    {
      "cell_type": "code",
      "source": [
        "import nltk\n",
        "nltk.download('stopwords')"
      ],
      "metadata": {
        "colab": {
          "base_uri": "https://localhost:8080/"
        },
        "id": "lZ1ZudU3Lirs",
        "outputId": "a69cd70f-9d3c-49c9-8335-278f1b770952"
      },
      "execution_count": 19,
      "outputs": [
        {
          "output_type": "stream",
          "name": "stderr",
          "text": [
            "[nltk_data] Downloading package stopwords to /root/nltk_data...\n",
            "[nltk_data]   Unzipping corpora/stopwords.zip.\n"
          ]
        },
        {
          "output_type": "execute_result",
          "data": {
            "text/plain": [
              "True"
            ]
          },
          "metadata": {},
          "execution_count": 19
        }
      ]
    },
    {
      "cell_type": "code",
      "source": [
        "for i in corpus:\n",
        "  words = nltk.word_tokenize(i)\n",
        "  for word in words:\n",
        "    if word not in set(stopwords.words('english')):\n",
        "      print(stemmer.stem(word))"
      ],
      "metadata": {
        "colab": {
          "base_uri": "https://localhost:8080/"
        },
        "id": "jMuGfuqgDcIG",
        "outputId": "4598cb80-598d-408a-c148-cb122d3129ac"
      },
      "execution_count": 20,
      "outputs": [
        {
          "output_type": "stream",
          "name": "stdout",
          "text": [
            "avul\n",
            "pakir\n",
            "jainulabdeen\n",
            "abdul\n",
            "kalam\n",
            "born\n",
            "octob\n",
            "tamil\n",
            "muslim\n",
            "famili\n",
            "pilgrimag\n",
            "centr\n",
            "rameswaram\n",
            "pamban\n",
            "island\n",
            "madra\n",
            "presid\n",
            "state\n",
            "tamil\n",
            "nadu\n",
            "father\n",
            "jainulabdeen\n",
            "marakayar\n",
            "boat\n",
            "owner\n",
            "imam\n",
            "local\n",
            "mosqu\n",
            "mother\n",
            "ashiamma\n",
            "housewif\n",
            "father\n",
            "own\n",
            "ferri\n",
            "took\n",
            "hindu\n",
            "pilgrim\n",
            "back\n",
            "forth\n",
            "rameswaram\n",
            "uninhabit\n",
            "dhanushkodi\n",
            "kalam\n",
            "youngest\n",
            "four\n",
            "brother\n",
            "one\n",
            "sister\n",
            "famili\n",
            "ancestor\n",
            "wealthi\n",
            "marakayar\n",
            "trader\n",
            "landown\n",
            "numer\n",
            "properti\n",
            "larg\n",
            "tract\n",
            "land\n",
            "even\n",
            "though\n",
            "ancestor\n",
            "wealthi\n",
            "marakayar\n",
            "trader\n",
            "famili\n",
            "lost\n",
            "fortun\n",
            "poverti\n",
            "stricken\n",
            "time\n",
            "kalam\n",
            "born\n",
            "marakayar\n",
            "muslim\n",
            "ethnic\n",
            "found\n",
            "coastal\n",
            "tamil\n",
            "nadu\n",
            "sri\n",
            "lanka\n",
            "claim\n",
            "descend\n",
            "arab\n",
            "trader\n",
            "local\n",
            "women\n",
            "busi\n",
            "involv\n",
            "trade\n",
            "groceri\n",
            "mainland\n",
            "island\n",
            "sri\n",
            "lanka\n",
            "well\n",
            "ferri\n",
            "pilgrim\n",
            "mainland\n",
            "pamban\n",
            "young\n",
            "boy\n",
            "sell\n",
            "newspap\n",
            "order\n",
            "add\n",
            "famili\n",
            "meager\n",
            "incom\n",
            "open\n",
            "pamban\n",
            "bridg\n",
            "mainland\n",
            "howev\n",
            "busi\n",
            "fail\n",
            "famili\n",
            "fortun\n",
            "properti\n",
            "lost\n",
            "time\n",
            "apart\n",
            "ancestr\n",
            "home\n",
            "school\n",
            "year\n",
            "kalam\n",
            "averag\n",
            "grade\n",
            "describ\n",
            "bright\n",
            "hardwork\n",
            "student\n",
            "strong\n",
            "desir\n",
            "learn\n",
            "spent\n",
            "hour\n",
            "studi\n",
            "especi\n",
            "mathemat\n",
            "complet\n",
            "educ\n",
            "schwartz\n",
            "higher\n",
            "secondari\n",
            "school\n",
            "ramanathapuram\n",
            "kalam\n",
            "went\n",
            "attend\n",
            "saint\n",
            "joseph\n",
            "colleg\n",
            "tiruchirapp\n",
            "affili\n",
            "univers\n",
            "madra\n",
            "graduat\n",
            "physic\n",
            "move\n",
            "madra\n",
            "studi\n",
            "aerospac\n",
            "engin\n",
            "madra\n",
            "institut\n",
            "technolog\n",
            "kalam\n",
            "work\n",
            "senior\n",
            "class\n",
            "project\n",
            "dean\n",
            "dissatisfi\n",
            "lack\n",
            "progress\n",
            "threaten\n",
            "revok\n",
            "scholarship\n",
            "unless\n",
            "project\n",
            "finish\n",
            "within\n",
            "next\n",
            "three\n",
            "day\n",
            "kalam\n",
            "met\n",
            "deadlin\n",
            "impress\n",
            "dean\n",
            "later\n",
            "said\n",
            "put\n",
            "stress\n",
            "ask\n",
            "meet\n",
            "difficult\n",
            "deadlin\n",
            "narrowli\n",
            "miss\n",
            "achiev\n",
            "dream\n",
            "becom\n",
            "fighter\n",
            "pilot\n",
            "place\n",
            "ninth\n",
            "qualifi\n",
            "eight\n",
            "posit\n",
            "avail\n",
            "iaf\n"
          ]
        }
      ]
    },
    {
      "cell_type": "code",
      "source": [
        "for i in corpus:\n",
        "  words = nltk.word_tokenize(i)\n",
        "  for word in words:\n",
        "    if word not in set(stopwords.words('english')):\n",
        "      print(lemmatizer.lemmatize(word))\n"
      ],
      "metadata": {
        "colab": {
          "base_uri": "https://localhost:8080/"
        },
        "id": "D0Uf-Ws4KN0H",
        "outputId": "8221099a-1b8f-4c99-eca5-95e84337d1bb"
      },
      "execution_count": 21,
      "outputs": [
        {
          "output_type": "stream",
          "name": "stdout",
          "text": [
            "avul\n",
            "pakir\n",
            "jainulabdeen\n",
            "abdul\n",
            "kalam\n",
            "born\n",
            "october\n",
            "tamil\n",
            "muslim\n",
            "family\n",
            "pilgrimage\n",
            "centre\n",
            "rameswaram\n",
            "pamban\n",
            "island\n",
            "madras\n",
            "presidency\n",
            "state\n",
            "tamil\n",
            "nadu\n",
            "father\n",
            "jainulabdeen\n",
            "marakayar\n",
            "boat\n",
            "owner\n",
            "imam\n",
            "local\n",
            "mosque\n",
            "mother\n",
            "ashiamma\n",
            "housewife\n",
            "father\n",
            "owned\n",
            "ferry\n",
            "took\n",
            "hindu\n",
            "pilgrim\n",
            "back\n",
            "forth\n",
            "rameswaram\n",
            "uninhabited\n",
            "dhanushkodi\n",
            "kalam\n",
            "youngest\n",
            "four\n",
            "brother\n",
            "one\n",
            "sister\n",
            "family\n",
            "ancestor\n",
            "wealthy\n",
            "marakayar\n",
            "trader\n",
            "landowner\n",
            "numerous\n",
            "property\n",
            "large\n",
            "tract\n",
            "land\n",
            "even\n",
            "though\n",
            "ancestor\n",
            "wealthy\n",
            "marakayar\n",
            "trader\n",
            "family\n",
            "lost\n",
            "fortune\n",
            "poverty\n",
            "stricken\n",
            "time\n",
            "kalam\n",
            "born\n",
            "marakayar\n",
            "muslim\n",
            "ethnic\n",
            "found\n",
            "coastal\n",
            "tamil\n",
            "nadu\n",
            "sri\n",
            "lanka\n",
            "claim\n",
            "descendance\n",
            "arab\n",
            "trader\n",
            "local\n",
            "woman\n",
            "business\n",
            "involved\n",
            "trading\n",
            "grocery\n",
            "mainland\n",
            "island\n",
            "sri\n",
            "lanka\n",
            "well\n",
            "ferrying\n",
            "pilgrim\n",
            "mainland\n",
            "pamban\n",
            "young\n",
            "boy\n",
            "sell\n",
            "newspaper\n",
            "order\n",
            "add\n",
            "family\n",
            "meager\n",
            "income\n",
            "opening\n",
            "pamban\n",
            "bridge\n",
            "mainland\n",
            "however\n",
            "business\n",
            "failed\n",
            "family\n",
            "fortune\n",
            "property\n",
            "lost\n",
            "time\n",
            "apart\n",
            "ancestral\n",
            "home\n",
            "school\n",
            "year\n",
            "kalam\n",
            "average\n",
            "grade\n",
            "described\n",
            "bright\n",
            "hardworking\n",
            "student\n",
            "strong\n",
            "desire\n",
            "learn\n",
            "spent\n",
            "hour\n",
            "study\n",
            "especially\n",
            "mathematics\n",
            "completing\n",
            "education\n",
            "schwartz\n",
            "higher\n",
            "secondary\n",
            "school\n",
            "ramanathapuram\n",
            "kalam\n",
            "went\n",
            "attend\n",
            "saint\n",
            "joseph\n",
            "college\n",
            "tiruchirappalli\n",
            "affiliated\n",
            "university\n",
            "madras\n",
            "graduated\n",
            "physic\n",
            "moved\n",
            "madras\n",
            "study\n",
            "aerospace\n",
            "engineering\n",
            "madras\n",
            "institute\n",
            "technology\n",
            "kalam\n",
            "working\n",
            "senior\n",
            "class\n",
            "project\n",
            "dean\n",
            "dissatisfied\n",
            "lack\n",
            "progress\n",
            "threatened\n",
            "revoke\n",
            "scholarship\n",
            "unless\n",
            "project\n",
            "finished\n",
            "within\n",
            "next\n",
            "three\n",
            "day\n",
            "kalam\n",
            "met\n",
            "deadline\n",
            "impressing\n",
            "dean\n",
            "later\n",
            "said\n",
            "putting\n",
            "stress\n",
            "asking\n",
            "meet\n",
            "difficult\n",
            "deadline\n",
            "narrowly\n",
            "missed\n",
            "achieving\n",
            "dream\n",
            "becoming\n",
            "fighter\n",
            "pilot\n",
            "placed\n",
            "ninth\n",
            "qualifier\n",
            "eight\n",
            "position\n",
            "available\n",
            "iaf\n"
          ]
        }
      ]
    },
    {
      "cell_type": "code",
      "source": [
        "from sklearn.feature_extraction.text import CountVectorizer\n",
        "cv = CountVectorizer()\n",
        "x = cv.fit_transform(corpus)\n",
        "cv.vocabulary_"
      ],
      "metadata": {
        "colab": {
          "base_uri": "https://localhost:8080/"
        },
        "id": "VbB1Zt-3K1QT",
        "outputId": "2a35f3a5-8630-4064-88fb-e67f056661d0"
      },
      "execution_count": 22,
      "outputs": [
        {
          "output_type": "execute_result",
          "data": {
            "text/plain": [
              "{'abdul': 0,\n",
              " 'achieving': 1,\n",
              " 'add': 2,\n",
              " 'aerospace': 3,\n",
              " 'affiliated': 4,\n",
              " 'after': 5,\n",
              " 'ancestors': 6,\n",
              " 'ancestral': 7,\n",
              " 'and': 8,\n",
              " 'apart': 9,\n",
              " 'arab': 10,\n",
              " 'are': 11,\n",
              " 'as': 12,\n",
              " 'ashiamma': 13,\n",
              " 'asking': 14,\n",
              " 'at': 15,\n",
              " 'attend': 16,\n",
              " 'available': 17,\n",
              " 'average': 18,\n",
              " 'avul': 19,\n",
              " 'back': 20,\n",
              " 'becoming': 21,\n",
              " 'been': 22,\n",
              " 'between': 23,\n",
              " 'boat': 24,\n",
              " 'born': 25,\n",
              " 'boy': 26,\n",
              " 'bridge': 27,\n",
              " 'bright': 28,\n",
              " 'brothers': 29,\n",
              " 'business': 30,\n",
              " 'businesses': 31,\n",
              " 'but': 32,\n",
              " 'by': 33,\n",
              " 'centre': 34,\n",
              " 'claim': 35,\n",
              " 'class': 36,\n",
              " 'coastal': 37,\n",
              " 'college': 38,\n",
              " 'completing': 39,\n",
              " 'days': 40,\n",
              " 'deadline': 41,\n",
              " 'dean': 42,\n",
              " 'descendance': 43,\n",
              " 'described': 44,\n",
              " 'desire': 45,\n",
              " 'dhanushkodi': 46,\n",
              " 'difficult': 47,\n",
              " 'dissatisfied': 48,\n",
              " 'dream': 49,\n",
              " 'education': 50,\n",
              " 'eight': 51,\n",
              " 'engineering': 52,\n",
              " 'especially': 53,\n",
              " 'ethnic': 54,\n",
              " 'even': 55,\n",
              " 'failed': 56,\n",
              " 'family': 57,\n",
              " 'father': 58,\n",
              " 'ferry': 59,\n",
              " 'ferrying': 60,\n",
              " 'fighter': 61,\n",
              " 'finished': 62,\n",
              " 'forth': 63,\n",
              " 'fortune': 64,\n",
              " 'fortunes': 65,\n",
              " 'found': 66,\n",
              " 'four': 67,\n",
              " 'from': 68,\n",
              " 'grades': 69,\n",
              " 'graduated': 70,\n",
              " 'groceries': 71,\n",
              " 'had': 72,\n",
              " 'hardworking': 73,\n",
              " 'he': 74,\n",
              " 'higher': 75,\n",
              " 'him': 76,\n",
              " 'hindu': 77,\n",
              " 'his': 78,\n",
              " 'home': 79,\n",
              " 'hours': 80,\n",
              " 'housewife': 81,\n",
              " 'however': 82,\n",
              " 'iaf': 83,\n",
              " 'imam': 84,\n",
              " 'impressing': 85,\n",
              " 'in': 86,\n",
              " 'income': 87,\n",
              " 'institute': 88,\n",
              " 'involved': 89,\n",
              " 'island': 90,\n",
              " 'its': 91,\n",
              " 'jainulabdeen': 92,\n",
              " 'joseph': 93,\n",
              " 'kalam': 94,\n",
              " 'lack': 95,\n",
              " 'land': 96,\n",
              " 'landowners': 97,\n",
              " 'lanka': 98,\n",
              " 'large': 99,\n",
              " 'later': 100,\n",
              " 'learn': 101,\n",
              " 'local': 102,\n",
              " 'lost': 103,\n",
              " 'madras': 104,\n",
              " 'mainland': 105,\n",
              " 'marakayar': 106,\n",
              " 'mathematics': 107,\n",
              " 'meager': 108,\n",
              " 'meet': 109,\n",
              " 'met': 110,\n",
              " 'missed': 111,\n",
              " 'mosque': 112,\n",
              " 'most': 113,\n",
              " 'mother': 114,\n",
              " 'moved': 115,\n",
              " 'muslim': 116,\n",
              " 'nadu': 117,\n",
              " 'narrowly': 118,\n",
              " 'newspapers': 119,\n",
              " 'next': 120,\n",
              " 'ninth': 121,\n",
              " 'now': 122,\n",
              " 'numerous': 123,\n",
              " 'october': 124,\n",
              " 'of': 125,\n",
              " 'on': 126,\n",
              " 'one': 127,\n",
              " 'only': 128,\n",
              " 'opening': 129,\n",
              " 'order': 130,\n",
              " 'over': 131,\n",
              " 'owned': 132,\n",
              " 'owner': 133,\n",
              " 'pakir': 134,\n",
              " 'pamban': 135,\n",
              " 'physics': 136,\n",
              " 'pilgrimage': 137,\n",
              " 'pilgrims': 138,\n",
              " 'pilot': 139,\n",
              " 'placed': 140,\n",
              " 'positions': 141,\n",
              " 'poverty': 142,\n",
              " 'presidency': 143,\n",
              " 'progress': 144,\n",
              " 'project': 145,\n",
              " 'properties': 146,\n",
              " 'putting': 147,\n",
              " 'qualifiers': 148,\n",
              " 'ramanathapuram': 149,\n",
              " 'rameswaram': 150,\n",
              " 'revoke': 151,\n",
              " 'said': 152,\n",
              " 'saint': 153,\n",
              " 'scholarship': 154,\n",
              " 'school': 155,\n",
              " 'schwartz': 156,\n",
              " 'secondary': 157,\n",
              " 'sell': 158,\n",
              " 'senior': 159,\n",
              " 'sister': 160,\n",
              " 'spent': 161,\n",
              " 'sri': 162,\n",
              " 'state': 163,\n",
              " 'stress': 164,\n",
              " 'stricken': 165,\n",
              " 'strong': 166,\n",
              " 'student': 167,\n",
              " 'studies': 168,\n",
              " 'study': 169,\n",
              " 'tamil': 170,\n",
              " 'technology': 171,\n",
              " 'that': 172,\n",
              " 'the': 173,\n",
              " 'their': 174,\n",
              " 'then': 175,\n",
              " 'though': 176,\n",
              " 'threatened': 177,\n",
              " 'three': 178,\n",
              " 'time': 179,\n",
              " 'tiruchirappalli': 180,\n",
              " 'to': 181,\n",
              " 'took': 182,\n",
              " 'tracts': 183,\n",
              " 'traders': 184,\n",
              " 'trading': 185,\n",
              " 'under': 186,\n",
              " 'uninhabited': 187,\n",
              " 'university': 188,\n",
              " 'unless': 189,\n",
              " 'was': 190,\n",
              " 'wealthy': 191,\n",
              " 'well': 192,\n",
              " 'went': 193,\n",
              " 'were': 194,\n",
              " 'where': 195,\n",
              " 'while': 196,\n",
              " 'who': 197,\n",
              " 'with': 198,\n",
              " 'within': 199,\n",
              " 'women': 200,\n",
              " 'working': 201,\n",
              " 'years': 202,\n",
              " 'you': 203,\n",
              " 'young': 204,\n",
              " 'youngest': 205}"
            ]
          },
          "metadata": {},
          "execution_count": 22
        }
      ]
    },
    {
      "cell_type": "code",
      "source": [
        "corpus[0]"
      ],
      "metadata": {
        "colab": {
          "base_uri": "https://localhost:8080/",
          "height": 54
        },
        "id": "2QrfNE2fUdb1",
        "outputId": "6e5ef9e2-4393-4171-b1a0-5fdd12b6d45a"
      },
      "execution_count": 23,
      "outputs": [
        {
          "output_type": "execute_result",
          "data": {
            "text/plain": [
              "'avul pakir jainulabdeen abdul kalam was born on    october       to a tamil muslim family in the pilgrimage centre of rameswaram on pamban island  then in the madras presidency and now in the state of tamil nadu '"
            ],
            "application/vnd.google.colaboratory.intrinsic+json": {
              "type": "string"
            }
          },
          "metadata": {},
          "execution_count": 23
        }
      ]
    },
    {
      "cell_type": "code",
      "source": [
        "x[0].toarray()"
      ],
      "metadata": {
        "colab": {
          "base_uri": "https://localhost:8080/"
        },
        "id": "T7QX-uZ9UjQi",
        "outputId": "c805e2f0-b318-420e-b5c7-6fec06b9c662"
      },
      "execution_count": 24,
      "outputs": [
        {
          "output_type": "execute_result",
          "data": {
            "text/plain": [
              "array([[1, 0, 0, 0, 0, 0, 0, 0, 1, 0, 0, 0, 0, 0, 0, 0, 0, 0, 0, 1, 0, 0,\n",
              "        0, 0, 0, 1, 0, 0, 0, 0, 0, 0, 0, 0, 1, 0, 0, 0, 0, 0, 0, 0, 0, 0,\n",
              "        0, 0, 0, 0, 0, 0, 0, 0, 0, 0, 0, 0, 0, 1, 0, 0, 0, 0, 0, 0, 0, 0,\n",
              "        0, 0, 0, 0, 0, 0, 0, 0, 0, 0, 0, 0, 0, 0, 0, 0, 0, 0, 0, 0, 3, 0,\n",
              "        0, 0, 1, 0, 1, 0, 1, 0, 0, 0, 0, 0, 0, 0, 0, 0, 1, 0, 0, 0, 0, 0,\n",
              "        0, 0, 0, 0, 0, 0, 1, 1, 0, 0, 0, 0, 1, 0, 1, 2, 2, 0, 0, 0, 0, 0,\n",
              "        0, 0, 1, 1, 0, 1, 0, 0, 0, 0, 0, 1, 0, 0, 0, 0, 0, 0, 1, 0, 0, 0,\n",
              "        0, 0, 0, 0, 0, 0, 0, 0, 0, 1, 0, 0, 0, 0, 0, 0, 2, 0, 0, 3, 0, 1,\n",
              "        0, 0, 0, 0, 0, 1, 0, 0, 0, 0, 0, 0, 0, 0, 1, 0, 0, 0, 0, 0, 0, 0,\n",
              "        0, 0, 0, 0, 0, 0, 0, 0]])"
            ]
          },
          "metadata": {},
          "execution_count": 24
        }
      ]
    },
    {
      "cell_type": "code",
      "source": [
        "from sklearn.feature_extraction.text import CountVectorizer\n",
        "cv1 = CountVectorizer(binary=True,ngram_range=(3,3))\n",
        "x1 = cv1.fit_transform(corpus)\n",
        "cv1.vocabulary_"
      ],
      "metadata": {
        "colab": {
          "base_uri": "https://localhost:8080/"
        },
        "id": "iPiG_qLWVE68",
        "outputId": "93d58c49-5bd0-495d-a3e4-919aec664179"
      },
      "execution_count": 25,
      "outputs": [
        {
          "output_type": "execute_result",
          "data": {
            "text/plain": [
              "{'abdul kalam was': 0,\n",
              " 'achieving his dream': 1,\n",
              " 'add to the': 2,\n",
              " 'aerospace engineering in': 3,\n",
              " 'affiliated with the': 4,\n",
              " 'after completing his': 5,\n",
              " 'ancestors had been': 6,\n",
              " 'and asking you': 7,\n",
              " 'and forth between': 8,\n",
              " 'and from sri': 9,\n",
              " 'and hardworking student': 10,\n",
              " 'and imam of': 11,\n",
              " 'and landowners with': 12,\n",
              " 'and large tracts': 13,\n",
              " 'and local women': 14,\n",
              " 'and now in': 15,\n",
              " 'and one sister': 16,\n",
              " 'and only eight': 17,\n",
              " 'and properties were': 18,\n",
              " 'and sri lanka': 19,\n",
              " 'and the family': 20,\n",
              " 'and the island': 21,\n",
              " 'and the now': 22,\n",
              " 'and threatened to': 23,\n",
              " 'and to and': 24,\n",
              " 'and was poverty': 25,\n",
              " 'apart from the': 26,\n",
              " 'arab traders and': 27,\n",
              " 'are muslim ethnic': 28,\n",
              " 'as bright and': 29,\n",
              " 'as ferrying pilgrims': 30,\n",
              " 'as he placed': 31,\n",
              " 'as well as': 32,\n",
              " 'as young boy': 33,\n",
              " 'ashiamma was housewife': 34,\n",
              " 'asking you to': 35,\n",
              " 'at the schwartz': 36,\n",
              " 'attend saint joseph': 37,\n",
              " 'available in the': 38,\n",
              " 'average grades but': 39,\n",
              " 'avul pakir jainulabdeen': 40,\n",
              " 'back and forth': 41,\n",
              " 'becoming fighter pilot': 42,\n",
              " 'been wealthy marakayar': 43,\n",
              " 'between rameswaram and': 44,\n",
              " 'between the mainland': 45,\n",
              " 'boat owner and': 46,\n",
              " 'born on october': 47,\n",
              " 'boy he had': 48,\n",
              " 'bridge to the': 49,\n",
              " 'bright and hardworking': 50,\n",
              " 'brothers and one': 51,\n",
              " 'business had involved': 52,\n",
              " 'businesses failed and': 53,\n",
              " 'but was described': 54,\n",
              " 'by the and': 55,\n",
              " 'by the time': 56,\n",
              " 'centre of rameswaram': 57,\n",
              " 'claim descendance from': 58,\n",
              " 'class project the': 59,\n",
              " 'coastal tamil nadu': 60,\n",
              " 'college tiruchirappalli then': 61,\n",
              " 'completing his education': 62,\n",
              " 'deadline impressing the': 63,\n",
              " 'dean was dissatisfied': 64,\n",
              " 'dean who later': 65,\n",
              " 'descendance from arab': 66,\n",
              " 'described as bright': 67,\n",
              " 'desire to learn': 68,\n",
              " 'dissatisfied with his': 69,\n",
              " 'dream of becoming': 70,\n",
              " 'education at the': 71,\n",
              " 'eight positions were': 72,\n",
              " 'engineering in madras': 73,\n",
              " 'ethnic found in': 74,\n",
              " 'even though his': 75,\n",
              " 'failed and the': 76,\n",
              " 'family fortune and': 77,\n",
              " 'family had lost': 78,\n",
              " 'family in the': 79,\n",
              " 'family meager income': 80,\n",
              " 'father jainulabdeen marakayar': 81,\n",
              " 'father owned ferry': 82,\n",
              " 'ferry that took': 83,\n",
              " 'ferrying pilgrims between': 84,\n",
              " 'fighter pilot as': 85,\n",
              " 'finished within the': 86,\n",
              " 'forth between rameswaram': 87,\n",
              " 'fortune and properties': 88,\n",
              " 'fortunes by the': 89,\n",
              " 'found in coastal': 90,\n",
              " 'four brothers and': 91,\n",
              " 'from arab traders': 92,\n",
              " 'from sri lanka': 93,\n",
              " 'from the ancestral': 94,\n",
              " 'from where he': 95,\n",
              " 'grades but was': 96,\n",
              " 'graduated in physics': 97,\n",
              " 'groceries between the': 98,\n",
              " 'had average grades': 99,\n",
              " 'had been wealthy': 100,\n",
              " 'had involved trading': 101,\n",
              " 'had lost most': 102,\n",
              " 'had strong desire': 103,\n",
              " 'had to sell': 104,\n",
              " 'hardworking student who': 105,\n",
              " 'he graduated in': 106,\n",
              " 'he had to': 107,\n",
              " 'he moved to': 108,\n",
              " 'he narrowly missed': 109,\n",
              " 'he placed ninth': 110,\n",
              " 'he spent hours': 111,\n",
              " 'higher secondary school': 112,\n",
              " 'him was putting': 113,\n",
              " 'hindu pilgrims back': 114,\n",
              " 'his ancestors had': 115,\n",
              " 'his dream of': 116,\n",
              " 'his education at': 117,\n",
              " 'his father jainulabdeen': 118,\n",
              " 'his father owned': 119,\n",
              " 'his lack of': 120,\n",
              " 'his mother ashiamma': 121,\n",
              " 'his scholarship unless': 122,\n",
              " 'his school years': 123,\n",
              " 'his studies especially': 124,\n",
              " 'hours on his': 125,\n",
              " 'however the businesses': 126,\n",
              " 'imam of local': 127,\n",
              " 'impressing the dean': 128,\n",
              " 'in coastal tamil': 129,\n",
              " 'in his family': 130,\n",
              " 'in his school': 131,\n",
              " 'in however the': 132,\n",
              " 'in madras institute': 133,\n",
              " 'in order to': 134,\n",
              " 'in physics in': 135,\n",
              " 'in qualifiers and': 136,\n",
              " 'in the iaf': 137,\n",
              " 'in the madras': 138,\n",
              " 'in the pilgrimage': 139,\n",
              " 'in the state': 140,\n",
              " 'in to study': 141,\n",
              " 'institute of technology': 142,\n",
              " 'involved trading groceries': 143,\n",
              " 'island and to': 144,\n",
              " 'island then in': 145,\n",
              " 'its fortunes by': 146,\n",
              " 'jainulabdeen abdul kalam': 147,\n",
              " 'jainulabdeen marakayar was': 148,\n",
              " 'joseph college tiruchirappalli': 149,\n",
              " 'kalam had average': 150,\n",
              " 'kalam met the': 151,\n",
              " 'kalam was born': 152,\n",
              " 'kalam was the': 153,\n",
              " 'kalam was working': 154,\n",
              " 'kalam went on': 155,\n",
              " 'lack of progress': 156,\n",
              " 'landowners with numerous': 157,\n",
              " 'lanka as well': 158,\n",
              " 'lanka who claim': 159,\n",
              " 'large tracts of': 160,\n",
              " 'later said to': 161,\n",
              " 'local mosque his': 162,\n",
              " 'lost most of': 163,\n",
              " 'lost over time': 164,\n",
              " 'madras from where': 165,\n",
              " 'madras in to': 166,\n",
              " 'madras institute of': 167,\n",
              " 'madras presidency and': 168,\n",
              " 'mainland and pamban': 169,\n",
              " 'mainland and the': 170,\n",
              " 'mainland in however': 171,\n",
              " 'marakayar are muslim': 172,\n",
              " 'marakayar traders and': 173,\n",
              " 'marakayar traders the': 174,\n",
              " 'marakayar was boat': 175,\n",
              " 'meet difficult deadline': 176,\n",
              " 'met the deadline': 177,\n",
              " 'missed achieving his': 178,\n",
              " 'mosque his mother': 179,\n",
              " 'most of its': 180,\n",
              " 'mother ashiamma was': 181,\n",
              " 'moved to madras': 182,\n",
              " 'muslim ethnic found': 183,\n",
              " 'muslim family in': 184,\n",
              " 'nadu and sri': 185,\n",
              " 'narrowly missed achieving': 186,\n",
              " 'newspapers in order': 187,\n",
              " 'next three days': 188,\n",
              " 'ninth in qualifiers': 189,\n",
              " 'now in the': 190,\n",
              " 'now uninhabited dhanushkodi': 191,\n",
              " 'numerous properties and': 192,\n",
              " 'october to tamil': 193,\n",
              " 'of becoming fighter': 194,\n",
              " 'of four brothers': 195,\n",
              " 'of its fortunes': 196,\n",
              " 'of local mosque': 197,\n",
              " 'of madras from': 198,\n",
              " 'of progress and': 199,\n",
              " 'of rameswaram on': 200,\n",
              " 'of tamil nadu': 201,\n",
              " 'of the pamban': 202,\n",
              " 'on his studies': 203,\n",
              " 'on october to': 204,\n",
              " 'on pamban island': 205,\n",
              " 'on senior class': 206,\n",
              " 'on to attend': 207,\n",
              " 'one sister in': 208,\n",
              " 'only eight positions': 209,\n",
              " 'opening of the': 210,\n",
              " 'order to add': 211,\n",
              " 'over time apart': 212,\n",
              " 'owned ferry that': 213,\n",
              " 'owner and imam': 214,\n",
              " 'pakir jainulabdeen abdul': 215,\n",
              " 'pamban bridge to': 216,\n",
              " 'pamban island then': 217,\n",
              " 'pilgrimage centre of': 218,\n",
              " 'pilgrims back and': 219,\n",
              " 'pilgrims between the': 220,\n",
              " 'pilot as he': 221,\n",
              " 'placed ninth in': 222,\n",
              " 'positions were available': 223,\n",
              " 'poverty stricken by': 224,\n",
              " 'presidency and now': 225,\n",
              " 'progress and threatened': 226,\n",
              " 'project the dean': 227,\n",
              " 'project was finished': 228,\n",
              " 'properties and large': 229,\n",
              " 'properties were lost': 230,\n",
              " 'putting you under': 231,\n",
              " 'qualifiers and only': 232,\n",
              " 'ramanathapuram kalam went': 233,\n",
              " 'rameswaram and the': 234,\n",
              " 'rameswaram on pamban': 235,\n",
              " 'revoke his scholarship': 236,\n",
              " 'said to him': 237,\n",
              " 'saint joseph college': 238,\n",
              " 'scholarship unless the': 239,\n",
              " 'school ramanathapuram kalam': 240,\n",
              " 'school years kalam': 241,\n",
              " 'schwartz higher secondary': 242,\n",
              " 'secondary school ramanathapuram': 243,\n",
              " 'sell newspapers in': 244,\n",
              " 'senior class project': 245,\n",
              " 'sister in his': 246,\n",
              " 'spent hours on': 247,\n",
              " 'sri lanka as': 248,\n",
              " 'sri lanka who': 249,\n",
              " 'state of tamil': 250,\n",
              " 'stress and asking': 251,\n",
              " 'stricken by the': 252,\n",
              " 'strong desire to': 253,\n",
              " 'student who had': 254,\n",
              " 'studies especially mathematics': 255,\n",
              " 'study aerospace engineering': 256,\n",
              " 'tamil muslim family': 257,\n",
              " 'tamil nadu and': 258,\n",
              " 'that took hindu': 259,\n",
              " 'the ancestral home': 260,\n",
              " 'the and was': 261,\n",
              " 'the businesses failed': 262,\n",
              " 'the deadline impressing': 263,\n",
              " 'the dean was': 264,\n",
              " 'the dean who': 265,\n",
              " 'the family fortune': 266,\n",
              " 'the family had': 267,\n",
              " 'the family meager': 268,\n",
              " 'the island and': 269,\n",
              " 'the madras presidency': 270,\n",
              " 'the mainland and': 271,\n",
              " 'the mainland in': 272,\n",
              " 'the next three': 273,\n",
              " 'the now uninhabited': 274,\n",
              " 'the opening of': 275,\n",
              " 'the pamban bridge': 276,\n",
              " 'the pilgrimage centre': 277,\n",
              " 'the project was': 278,\n",
              " 'the schwartz higher': 279,\n",
              " 'the state of': 280,\n",
              " 'the time kalam': 281,\n",
              " 'the university of': 282,\n",
              " 'the youngest of': 283,\n",
              " 'their business had': 284,\n",
              " 'then affiliated with': 285,\n",
              " 'then in the': 286,\n",
              " 'though his ancestors': 287,\n",
              " 'threatened to revoke': 288,\n",
              " 'time apart from': 289,\n",
              " 'time kalam was': 290,\n",
              " 'tiruchirappalli then affiliated': 291,\n",
              " 'to add to': 292,\n",
              " 'to and from': 293,\n",
              " 'to attend saint': 294,\n",
              " 'to him was': 295,\n",
              " 'to madras in': 296,\n",
              " 'to meet difficult': 297,\n",
              " 'to revoke his': 298,\n",
              " 'to sell newspapers': 299,\n",
              " 'to study aerospace': 300,\n",
              " 'to tamil muslim': 301,\n",
              " 'to the family': 302,\n",
              " 'to the mainland': 303,\n",
              " 'took hindu pilgrims': 304,\n",
              " 'tracts of land': 305,\n",
              " 'traders and landowners': 306,\n",
              " 'traders and local': 307,\n",
              " 'traders the family': 308,\n",
              " 'trading groceries between': 309,\n",
              " 'under stress and': 310,\n",
              " 'university of madras': 311,\n",
              " 'unless the project': 312,\n",
              " 'was boat owner': 313,\n",
              " 'was born on': 314,\n",
              " 'was described as': 315,\n",
              " 'was dissatisfied with': 316,\n",
              " 'was finished within': 317,\n",
              " 'was poverty stricken': 318,\n",
              " 'was putting you': 319,\n",
              " 'was the youngest': 320,\n",
              " 'was working on': 321,\n",
              " 'wealthy marakayar traders': 322,\n",
              " 'well as ferrying': 323,\n",
              " 'went on to': 324,\n",
              " 'were available in': 325,\n",
              " 'were lost over': 326,\n",
              " 'where he graduated': 327,\n",
              " 'while kalam was': 328,\n",
              " 'who claim descendance': 329,\n",
              " 'who had strong': 330,\n",
              " 'who later said': 331,\n",
              " 'with his lack': 332,\n",
              " 'with numerous properties': 333,\n",
              " 'with the opening': 334,\n",
              " 'with the university': 335,\n",
              " 'within the next': 336,\n",
              " 'working on senior': 337,\n",
              " 'years kalam had': 338,\n",
              " 'you to meet': 339,\n",
              " 'you under stress': 340,\n",
              " 'young boy he': 341,\n",
              " 'youngest of four': 342}"
            ]
          },
          "metadata": {},
          "execution_count": 25
        }
      ]
    },
    {
      "cell_type": "code",
      "source": [
        "#Tfidf vectorizer\n",
        "from sklearn.feature_extraction.text import TfidfVectorizer\n",
        "cv = TfidfVectorizer() #you can also use ngrams here\n",
        "y = cv.fit_transform(corpus)\n"
      ],
      "metadata": {
        "id": "3qnrg7xM96XE"
      },
      "execution_count": 30,
      "outputs": []
    },
    {
      "cell_type": "code",
      "source": [
        "corpus[0]"
      ],
      "metadata": {
        "colab": {
          "base_uri": "https://localhost:8080/",
          "height": 54
        },
        "id": "vfT3NZzo-oWE",
        "outputId": "b4b64baa-b17d-4bd5-d6c5-00dec37265db"
      },
      "execution_count": 31,
      "outputs": [
        {
          "output_type": "execute_result",
          "data": {
            "text/plain": [
              "'avul pakir jainulabdeen abdul kalam was born on    october       to a tamil muslim family in the pilgrimage centre of rameswaram on pamban island  then in the madras presidency and now in the state of tamil nadu '"
            ],
            "application/vnd.google.colaboratory.intrinsic+json": {
              "type": "string"
            }
          },
          "metadata": {},
          "execution_count": 31
        }
      ]
    },
    {
      "cell_type": "code",
      "source": [
        "y[0].toarray()"
      ],
      "metadata": {
        "colab": {
          "base_uri": "https://localhost:8080/"
        },
        "id": "Kp3tvJTr-pWu",
        "outputId": "2548294a-3733-4102-c3c1-3f7757ffa854"
      },
      "execution_count": 32,
      "outputs": [
        {
          "output_type": "execute_result",
          "data": {
            "text/plain": [
              "array([[0.19347509, 0.        , 0.        , 0.        , 0.        ,\n",
              "        0.        , 0.        , 0.        , 0.07572135, 0.        ,\n",
              "        0.        , 0.        , 0.        , 0.        , 0.        ,\n",
              "        0.        , 0.        , 0.        , 0.        , 0.19347509,\n",
              "        0.        , 0.        , 0.        , 0.        , 0.        ,\n",
              "        0.168939  , 0.        , 0.        , 0.        , 0.        ,\n",
              "        0.        , 0.        , 0.        , 0.        , 0.19347509,\n",
              "        0.        , 0.        , 0.        , 0.        , 0.        ,\n",
              "        0.        , 0.        , 0.        , 0.        , 0.        ,\n",
              "        0.        , 0.        , 0.        , 0.        , 0.        ,\n",
              "        0.        , 0.        , 0.        , 0.        , 0.        ,\n",
              "        0.        , 0.        , 0.12699427, 0.        , 0.        ,\n",
              "        0.        , 0.        , 0.        , 0.        , 0.        ,\n",
              "        0.        , 0.        , 0.        , 0.        , 0.        ,\n",
              "        0.        , 0.        , 0.        , 0.        , 0.        ,\n",
              "        0.        , 0.        , 0.        , 0.        , 0.        ,\n",
              "        0.        , 0.        , 0.        , 0.        , 0.        ,\n",
              "        0.        , 0.28824734, 0.        , 0.        , 0.        ,\n",
              "        0.168939  , 0.        , 0.168939  , 0.        , 0.10958563,\n",
              "        0.        , 0.        , 0.        , 0.        , 0.        ,\n",
              "        0.        , 0.        , 0.        , 0.        , 0.15153036,\n",
              "        0.        , 0.        , 0.        , 0.        , 0.        ,\n",
              "        0.        , 0.        , 0.        , 0.        , 0.        ,\n",
              "        0.        , 0.168939  , 0.168939  , 0.        , 0.        ,\n",
              "        0.        , 0.        , 0.168939  , 0.        , 0.19347509,\n",
              "        0.1806298 , 0.27605435, 0.        , 0.        , 0.        ,\n",
              "        0.        , 0.        , 0.        , 0.        , 0.19347509,\n",
              "        0.15153036, 0.        , 0.19347509, 0.        , 0.        ,\n",
              "        0.        , 0.        , 0.        , 0.19347509, 0.        ,\n",
              "        0.        , 0.        , 0.        , 0.        , 0.        ,\n",
              "        0.168939  , 0.        , 0.        , 0.        , 0.        ,\n",
              "        0.        , 0.        , 0.        , 0.        , 0.        ,\n",
              "        0.        , 0.        , 0.        , 0.19347509, 0.        ,\n",
              "        0.        , 0.        , 0.        , 0.        , 0.        ,\n",
              "        0.33787799, 0.        , 0.        , 0.25514863, 0.        ,\n",
              "        0.168939  , 0.        , 0.        , 0.        , 0.        ,\n",
              "        0.        , 0.09608245, 0.        , 0.        , 0.        ,\n",
              "        0.        , 0.        , 0.        , 0.        , 0.        ,\n",
              "        0.10958563, 0.        , 0.        , 0.        , 0.        ,\n",
              "        0.        , 0.        , 0.        , 0.        , 0.        ,\n",
              "        0.        , 0.        , 0.        , 0.        , 0.        ,\n",
              "        0.        ]])"
            ]
          },
          "metadata": {},
          "execution_count": 32
        }
      ]
    },
    {
      "cell_type": "code",
      "source": [
        ""
      ],
      "metadata": {
        "id": "HkqtE-WC-r8m"
      },
      "execution_count": null,
      "outputs": []
    }
  ]
}