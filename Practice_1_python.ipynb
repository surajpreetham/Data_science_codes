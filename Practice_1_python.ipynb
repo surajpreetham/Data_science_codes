{
 "cells": [
  {
   "cell_type": "code",
   "execution_count": 1,
   "id": "044d00b6",
   "metadata": {},
   "outputs": [
    {
     "data": {
      "text/plain": [
       "True"
      ]
     },
     "execution_count": 1,
     "metadata": {},
     "output_type": "execute_result"
    }
   ],
   "source": [
    "all([2,4,1,3])"
   ]
  },
  {
   "cell_type": "code",
   "execution_count": 2,
   "id": "7735461d",
   "metadata": {},
   "outputs": [
    {
     "data": {
      "text/plain": [
       "False"
      ]
     },
     "execution_count": 2,
     "metadata": {},
     "output_type": "execute_result"
    }
   ],
   "source": [
    "all([0,12,2])"
   ]
  },
  {
   "cell_type": "code",
   "execution_count": 3,
   "id": "ba700a11",
   "metadata": {},
   "outputs": [
    {
     "data": {
      "text/plain": [
       "False"
      ]
     },
     "execution_count": 3,
     "metadata": {},
     "output_type": "execute_result"
    }
   ],
   "source": [
    "all([2,4,0,6])"
   ]
  },
  {
   "cell_type": "code",
   "execution_count": 4,
   "id": "f3de6587",
   "metadata": {},
   "outputs": [
    {
     "data": {
      "text/plain": [
       "4.57"
      ]
     },
     "execution_count": 4,
     "metadata": {},
     "output_type": "execute_result"
    }
   ],
   "source": [
    "round(4.5676,2)"
   ]
  },
  {
   "cell_type": "code",
   "execution_count": 5,
   "id": "ceb29060",
   "metadata": {},
   "outputs": [
    {
     "data": {
      "text/plain": [
       "True"
      ]
     },
     "execution_count": 5,
     "metadata": {},
     "output_type": "execute_result"
    }
   ],
   "source": [
    "any([2>8, 4>2, 1>2])"
   ]
  },
  {
   "cell_type": "code",
   "execution_count": 6,
   "id": "1e97180c",
   "metadata": {},
   "outputs": [
    {
     "data": {
      "text/plain": [
       "5.0"
      ]
     },
     "execution_count": 6,
     "metadata": {},
     "output_type": "execute_result"
    }
   ],
   "source": [
    "import math\n",
    "\n",
    "abs(math.sqrt(25))"
   ]
  },
  {
   "cell_type": "code",
   "execution_count": 8,
   "id": "c46f6286",
   "metadata": {},
   "outputs": [
    {
     "data": {
      "text/plain": [
       "6"
      ]
     },
     "execution_count": 8,
     "metadata": {},
     "output_type": "execute_result"
    }
   ],
   "source": [
    "\n",
    "sum([1,2,3])"
   ]
  },
  {
   "cell_type": "code",
   "execution_count": 9,
   "id": "619c149b",
   "metadata": {},
   "outputs": [
    {
     "data": {
      "text/plain": [
       "False"
      ]
     },
     "execution_count": 9,
     "metadata": {},
     "output_type": "execute_result"
    }
   ],
   "source": [
    "all([3,0,4.2])"
   ]
  },
  {
   "cell_type": "code",
   "execution_count": 13,
   "id": "6d98c011",
   "metadata": {},
   "outputs": [
    {
     "data": {
      "text/plain": [
       "2"
      ]
     },
     "execution_count": 13,
     "metadata": {},
     "output_type": "execute_result"
    }
   ],
   "source": [
    "min(max(False,8,-4), 2,7)"
   ]
  },
  {
   "cell_type": "code",
   "execution_count": 14,
   "id": "126aae23",
   "metadata": {},
   "outputs": [
    {
     "name": "stdout",
     "output_type": "stream",
     "text": [
      "8\n"
     ]
    }
   ],
   "source": [
    "add_one = lambda x: x + 1\n",
    "\n",
    "\n",
    "print(add_one(7))"
   ]
  },
  {
   "cell_type": "code",
   "execution_count": 15,
   "id": "7373f326",
   "metadata": {},
   "outputs": [
    {
     "name": "stdout",
     "output_type": "stream",
     "text": [
      "['beach is fun!', 'car is fun!']\n"
     ]
    }
   ],
   "source": [
    "letters = [\"beach\", \"car\"]\n",
    "\n",
    "funified = list(map(lambda word: f\"{word} is fun!\", letters))\n",
    "\n",
    "print(funified)"
   ]
  },
  {
   "cell_type": "code",
   "execution_count": 16,
   "id": "d9ca92e9",
   "metadata": {},
   "outputs": [
    {
     "data": {
      "text/plain": [
       "15.0"
      ]
     },
     "execution_count": 16,
     "metadata": {},
     "output_type": "execute_result"
    }
   ],
   "source": [
    "(lambda x: (x + 3) * 5 / 2)(3)"
   ]
  },
  {
   "cell_type": "code",
   "execution_count": 17,
   "id": "25778aea",
   "metadata": {},
   "outputs": [
    {
     "name": "stdout",
     "output_type": "stream",
     "text": [
      "10\n"
     ]
    }
   ],
   "source": [
    "from functools import reduce\n",
    "\n",
    "numbers = [1, 2, 3, 4]\n",
    "\n",
    "sum = reduce(lambda x, y: x + y, numbers)\n",
    "\n",
    "print(sum)"
   ]
  },
  {
   "cell_type": "code",
   "execution_count": 18,
   "id": "3cf04d66",
   "metadata": {},
   "outputs": [
    {
     "name": "stdout",
     "output_type": "stream",
     "text": [
      "['bay', 'boy']\n"
     ]
    }
   ],
   "source": [
    "words = [\"bay\", \"cat\", \"boy\", \"fan\"]\n",
    "\n",
    "b_words = list(filter(lambda word: word.startswith(\"b\"), words))\n",
    "\n",
    "print(b_words)"
   ]
  },
  {
   "cell_type": "code",
   "execution_count": 19,
   "id": "ec888fcc",
   "metadata": {},
   "outputs": [
    {
     "ename": "NameError",
     "evalue": "name 'version' is not defined",
     "output_type": "error",
     "traceback": [
      "\u001b[1;31m---------------------------------------------------------------------------\u001b[0m",
      "\u001b[1;31mNameError\u001b[0m                                 Traceback (most recent call last)",
      "\u001b[1;32m~\\AppData\\Local\\Temp/ipykernel_3036/218163686.py\u001b[0m in \u001b[0;36m<module>\u001b[1;34m\u001b[0m\n\u001b[1;32m----> 1\u001b[1;33m \u001b[1;33m-\u001b[0m\u001b[1;33m-\u001b[0m\u001b[0mversion\u001b[0m\u001b[1;33m\u001b[0m\u001b[1;33m\u001b[0m\u001b[0m\n\u001b[0m",
      "\u001b[1;31mNameError\u001b[0m: name 'version' is not defined"
     ]
    }
   ],
   "source": [
    "--version"
   ]
  },
  {
   "cell_type": "code",
   "execution_count": 20,
   "id": "c17132cf",
   "metadata": {},
   "outputs": [
    {
     "ename": "SyntaxError",
     "evalue": "invalid syntax (Temp/ipykernel_3036/1025932785.py, line 1)",
     "output_type": "error",
     "traceback": [
      "\u001b[1;36m  File \u001b[1;32m\"C:\\Users\\admin\\AppData\\Local\\Temp/ipykernel_3036/1025932785.py\"\u001b[1;36m, line \u001b[1;32m1\u001b[0m\n\u001b[1;33m    $ python --version\u001b[0m\n\u001b[1;37m    ^\u001b[0m\n\u001b[1;31mSyntaxError\u001b[0m\u001b[1;31m:\u001b[0m invalid syntax\n"
     ]
    }
   ],
   "source": [
    "$ python --version"
   ]
  },
  {
   "cell_type": "code",
   "execution_count": 21,
   "id": "502c23f0",
   "metadata": {
    "scrolled": true
   },
   "outputs": [
    {
     "name": "stdout",
     "output_type": "stream",
     "text": [
      "3.9.7 (default, Sep 16 2021, 16:59:28) [MSC v.1916 64 bit (AMD64)]\n"
     ]
    }
   ],
   "source": [
    "import sys\n",
    "\n",
    "print(sys.version)"
   ]
  },
  {
   "cell_type": "code",
   "execution_count": 28,
   "id": "398af9ec",
   "metadata": {},
   "outputs": [],
   "source": [
    "Elements = ['Bengaluru','New York', 1971, '1682', (1,2,3,4,5,'Is this tuple?'),\"'Hello,welcome to Python Programming'\"]\n",
    "Elements.remove('1682')\n",
    "Elements.remove('New York')"
   ]
  },
  {
   "cell_type": "code",
   "execution_count": 29,
   "id": "d8776e6d",
   "metadata": {},
   "outputs": [
    {
     "name": "stdout",
     "output_type": "stream",
     "text": [
      "['Bengaluru', 1971, (1, 2, 3, 4, 5, 'Is this tuple?'), \"'Hello,welcome to Python Programming'\"]\n"
     ]
    }
   ],
   "source": [
    "print(Elements)"
   ]
  },
  {
   "cell_type": "code",
   "execution_count": 34,
   "id": "fb2b6f70",
   "metadata": {},
   "outputs": [
    {
     "data": {
      "text/plain": [
       "'Bengaluru'"
      ]
     },
     "execution_count": 34,
     "metadata": {},
     "output_type": "execute_result"
    }
   ],
   "source": [
    "b=len(Elements)\n",
    "Elements[-len(Elements)]"
   ]
  },
  {
   "cell_type": "code",
   "execution_count": 36,
   "id": "2e275d9c",
   "metadata": {},
   "outputs": [
    {
     "data": {
      "text/plain": [
       "['Bengaluru',\n",
       " 1971,\n",
       " (1, 2, 3, 4, 5, 'Is this tuple?'),\n",
       " \"'Hello,welcome to Python Programming'\",\n",
       " 'Mumbai',\n",
       " 'Mumbai']"
      ]
     },
     "execution_count": 36,
     "metadata": {},
     "output_type": "execute_result"
    }
   ],
   "source": [
    "Elements.append('Mumbai')\n",
    "Elements"
   ]
  },
  {
   "cell_type": "code",
   "execution_count": 37,
   "id": "eac38328",
   "metadata": {},
   "outputs": [],
   "source": [
    "Elements.remove(1971)"
   ]
  },
  {
   "cell_type": "code",
   "execution_count": 38,
   "id": "3e0142b6",
   "metadata": {},
   "outputs": [
    {
     "data": {
      "text/plain": [
       "['Bengaluru',\n",
       " (1, 2, 3, 4, 5, 'Is this tuple?'),\n",
       " \"'Hello,welcome to Python Programming'\",\n",
       " 'Mumbai',\n",
       " 'Mumbai']"
      ]
     },
     "execution_count": 38,
     "metadata": {},
     "output_type": "execute_result"
    }
   ],
   "source": [
    "Elements"
   ]
  },
  {
   "cell_type": "code",
   "execution_count": 40,
   "id": "efe74dc8",
   "metadata": {},
   "outputs": [],
   "source": [
    "Elements.append('Hakuna')"
   ]
  },
  {
   "cell_type": "code",
   "execution_count": 41,
   "id": "2b9b9393",
   "metadata": {},
   "outputs": [
    {
     "data": {
      "text/plain": [
       "['Bengaluru',\n",
       " (1, 2, 3, 4, 5, 'Is this tuple?'),\n",
       " \"'Hello,welcome to Python Programming'\",\n",
       " 'Mumbai',\n",
       " 'Mumbai',\n",
       " 'Hakuna']"
      ]
     },
     "execution_count": 41,
     "metadata": {},
     "output_type": "execute_result"
    }
   ],
   "source": [
    "Elements"
   ]
  },
  {
   "cell_type": "code",
   "execution_count": 42,
   "id": "7f2aa321",
   "metadata": {},
   "outputs": [
    {
     "data": {
      "text/plain": [
       "['Bengaluru',\n",
       " (1, 2, 3, 4, 5, 'Is this tuple?'),\n",
       " \"'Hello,welcome to Python Programming'\",\n",
       " 'Mumbai',\n",
       " 'Mumbai']"
      ]
     },
     "execution_count": 42,
     "metadata": {},
     "output_type": "execute_result"
    }
   ],
   "source": [
    "Elements.pop()\n",
    "Elements"
   ]
  },
  {
   "cell_type": "code",
   "execution_count": 45,
   "id": "761ee7f7",
   "metadata": {},
   "outputs": [],
   "source": [
    "Elements.extend(\"Matata\")"
   ]
  },
  {
   "cell_type": "code",
   "execution_count": 46,
   "id": "2a832c4d",
   "metadata": {},
   "outputs": [
    {
     "data": {
      "text/plain": [
       "['Bengaluru',\n",
       " (1, 2, 3, 4, 5, 'Is this tuple?'),\n",
       " \"'Hello,welcome to Python Programming'\",\n",
       " 'Mumbai',\n",
       " 'Mumbai',\n",
       " 'M',\n",
       " 'a',\n",
       " 't',\n",
       " 'a',\n",
       " 't',\n",
       " 'a',\n",
       " 'M',\n",
       " 'a',\n",
       " 't',\n",
       " 'a',\n",
       " 't',\n",
       " 'a']"
      ]
     },
     "execution_count": 46,
     "metadata": {},
     "output_type": "execute_result"
    }
   ],
   "source": [
    "Elements"
   ]
  },
  {
   "cell_type": "code",
   "execution_count": 49,
   "id": "781e4e29",
   "metadata": {},
   "outputs": [],
   "source": [
    "Elements.insert(2,'Matata')"
   ]
  },
  {
   "cell_type": "code",
   "execution_count": 50,
   "id": "ba43fda5",
   "metadata": {},
   "outputs": [
    {
     "name": "stdout",
     "output_type": "stream",
     "text": [
      "(1, 2, 3, 4, 5, 'Is this tuple?')\n",
      "No, we can't add elements to a tuple as it is immutable.\n",
      "********* The practical applications of lists: \n",
      "1. Students Data or the Profile in the form of nested lists \n",
      "2.Students marks and Report \n",
      "3.Medical or Retail Shops \n",
      "4.Billing in Hotels\n",
      "********* The practical applications of tuple: \n",
      "1.Ingredients of a recipe \n",
      "2.States and Capitals \n",
      "3.Employee Personal Data\n"
     ]
    }
   ],
   "source": [
    "Elements = ['Bengaluru','New York', 1971, '1682', (1,2,3,4,5,'Is this tuple?'),\"'Hello,welcome to Python Programming'\"]\n",
    "a = Elements[4]\n",
    "print(a)\n",
    "print(\"No, we can\\'t add elements to a tuple as it is immutable.\")\n",
    "Elements.remove('1682')\n",
    "Elements.remove('New York')\n",
    "print(\"********* The practical applications of lists: \\n1. Students Data or the Profile in the form of nested lists \\n2.Students marks and Report \\n3.Medical or Retail Shops \\n4.Billing in Hotels\")\n",
    "print(\"********* The practical applications of tuple: \\n1.Ingredients of a recipe \\n2.States and Capitals \\n3.Employee Personal Data\")\n",
    "Elements[-len(Elements)]\n",
    "Elements.append('Mumbai')\n",
    "\n",
    "del Elements[1]\n",
    "Elements.remove(\"'Hello,welcome to Python Programming'\")\n",
    "Elements.pop()\n",
    "\n",
    "Elements.append('Hakuna Matata')\n",
    "Elements1 = {'Matata'}\n",
    "Elements.extend(Elements1)\n",
    "Elements.insert(2,'Habibi')"
   ]
  },
  {
   "cell_type": "code",
   "execution_count": null,
   "id": "031f4065",
   "metadata": {},
   "outputs": [],
   "source": []
  }
 ],
 "metadata": {
  "kernelspec": {
   "display_name": "Python 3 (ipykernel)",
   "language": "python",
   "name": "python3"
  },
  "language_info": {
   "codemirror_mode": {
    "name": "ipython",
    "version": 3
   },
   "file_extension": ".py",
   "mimetype": "text/x-python",
   "name": "python",
   "nbconvert_exporter": "python",
   "pygments_lexer": "ipython3",
   "version": "3.9.7"
  }
 },
 "nbformat": 4,
 "nbformat_minor": 5
}
