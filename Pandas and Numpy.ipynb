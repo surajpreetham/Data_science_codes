{
 "cells": [
  {
   "attachments": {
    "1200px-Pandas_logo.svg.png": {
     "image/png": "[encoded data removed]"
    }
   },
   "cell_type": "markdown",
   "id": "e01fc8cd",
   "metadata": {},
   "source": [
    "\n",
    "## <span style = 'color:blue'> Introduction to Pandas</span>\n",
    "<p><span style=\"orphans: 2; text-align: left; text-indent: 0px; widows: 2; background-color: rgb(255, 255, 255); text-decoration-thickness: initial; text-decoration-style: initial; text-decoration-color: initial; float: none; display: inline !important;\">\n",
    "        <font face=\"Helvetica Neue, Helvetica, Arial, sans-serif\"><span style=\"font-size: 14px;\">In this tutorial we will see how to use Pandas library:</span></font>\n",
    "    </span><span style=\"font-size: 18px;\"><b>&nbsp;</b></span></p>\n",
    "    \n",
    "<ol>\n",
    "    <li>Pandas is an open-source Python library</li>\n",
    "    <li>Provides dataframe, loading, indexing, joins, data reshaping, functions</li>\n",
    "    <li>It provides simple data structures and data analysis tools</li>\n",
    "    <li>Used in  academics and industry on large scale</li>\n",
    "    <li>It has a simple syntax and is easy to learn</li>\n",
    "</ol>\n",
    "\n",
    "<p>For more information, and installation details, you can visit <span style=\"color: rgb(44, 130, 201);\"><strong>Python Software Foundation</strong></span> by clicking <a href=\"https://pandas.pydata.org/\" rel=\"noopener noreferrer\" target=\"_blank\">here</a></p>\n",
    "\n",
    "![1200px-Pandas_logo.svg.png](attachment:1200px-Pandas_logo.svg.png)"
   ]
  },
  {
   "cell_type": "markdown",
   "id": "3a71b515",
   "metadata": {},
   "source": [
    "<p><strong><u>Data Structures in Pandas</u></strong></p>\n",
    "\n",
    "Pandas deals with the following three data structures −\n",
    "\n",
    "<ol>\n",
    "    <li>Data Frame: It is two dimensional labeled, having tabular structure (rows and column), size mutable with potentially heterogeneously typed   columns.</li>\n",
    "    <li>Series: It is one dimensional, labeled and homogeneous array which is size immutable.</li>\n",
    "    <li>Panel: It is three dimensional, labeled, and sizemutable structure.</li>\n",
    "</ol>\n",
    "\n",
    "\n",
    "\n"
   ]
  },
  {
   "cell_type": "markdown",
   "id": "42af2420",
   "metadata": {},
   "source": [
    "<p><strong><u>Series in Pandas</u></strong></p>"
   ]
  },
  {
   "cell_type": "code",
   "execution_count": 3,
   "id": "86a714e5",
   "metadata": {},
   "outputs": [
    {
     "name": "stdout",
     "output_type": "stream",
     "text": [
      "0    100\n",
      "1     70\n",
      "2     87\n",
      "3     85\n",
      "dtype: int64\n"
     ]
    }
   ],
   "source": [
    "# Series can be seen as a column in a table\n",
    "# pandas.Series( data, index, dtype, copy)\n",
    "import pandas as pd\n",
    "marks = [100, 70, 87, 85]\n",
    "s = pd.Series(marks)\n",
    "print(s)"
   ]
  },
  {
   "cell_type": "code",
   "execution_count": 4,
   "id": "dc008abe",
   "metadata": {},
   "outputs": [
    {
     "name": "stdout",
     "output_type": "stream",
     "text": [
      "11    100\n",
      "12     70\n",
      "13     87\n",
      "14     85\n",
      "dtype: int64\n"
     ]
    }
   ],
   "source": [
    "# Index the the elements\n",
    "marks = [100, 70, 87, 85]\n",
    "s = pd.Series(marks, index = [11,12,13,14])\n",
    "print(s)"
   ]
  },
  {
   "cell_type": "code",
   "execution_count": 5,
   "id": "83b26bdd",
   "metadata": {},
   "outputs": [
    {
     "name": "stdout",
     "output_type": "stream",
     "text": [
      "a1    11\n",
      "a2    20\n",
      "a3    19\n",
      "a4    41\n",
      "a5    33\n",
      "dtype: int64\n",
      "----------retrieving the second element---------\n",
      "20\n"
     ]
    }
   ],
   "source": [
    "# Accessing Series elements\n",
    "s = pd.Series([11,20,19,41,33],index = ['a1','a2','a3','a4','a5'])\n",
    "print(s)\n",
    "print('----------retrieving the second element---------')\n",
    "print(s[1])\n"
   ]
  },
  {
   "cell_type": "markdown",
   "id": "bcaa44b3",
   "metadata": {},
   "source": [
    "<p><strong><u>DataFrames in Pandas</u></strong></p>\n",
    "- Pandas DataFrame is two-dimensional size-mutable, potentially heterogeneous tabular data structure with labeled axes (rows and columns). A Data frame is a two-dimensional data structure, i.e., data is aligned in a tabular fashion in rows and columns. Pandas DataFrame consists of three principal components, the data, rows, and columns."
   ]
  },
  {
   "cell_type": "code",
   "execution_count": 6,
   "id": "31127474",
   "metadata": {},
   "outputs": [
    {
     "name": "stdout",
     "output_type": "stream",
     "text": [
      "Empty DataFrame\n",
      "Columns: []\n",
      "Index: []\n"
     ]
    }
   ],
   "source": [
    "# Lets make an empty Dataframe which consists of rows & columns\n",
    "df = pd.DataFrame()\n",
    "print(df)"
   ]
  },
  {
   "cell_type": "code",
   "execution_count": 7,
   "id": "edbb2f52",
   "metadata": {},
   "outputs": [
    {
     "name": "stdout",
     "output_type": "stream",
     "text": [
      "   a   b     c\n",
      "0  1   2   NaN\n",
      "1  5  10  20.0\n"
     ]
    }
   ],
   "source": [
    "data = [{'a': 1, 'b': 2},{'a': 5, 'b': 10, 'c': 20}]\n",
    "df = pd.DataFrame(data)\n",
    "print(df)"
   ]
  },
  {
   "cell_type": "code",
   "execution_count": 8,
   "id": "1b7f30f8",
   "metadata": {},
   "outputs": [
    {
     "name": "stdout",
     "output_type": "stream",
     "text": [
      "   Name  Height  Age\n",
      "0  John     5.6   12\n",
      "1  Alex     6.0   16\n",
      "2  Mark     5.9   15\n"
     ]
    }
   ],
   "source": [
    "# Lets make a Dataframe with 3 columns\n",
    "data = [['John',5.6, 12],['Alex',6.0, 16],['Mark',5.9, 15]]\n",
    "df = pd.DataFrame(data,columns=['Name','Height','Age'])\n",
    "print(df)"
   ]
  },
  {
   "cell_type": "code",
   "execution_count": 9,
   "id": "7d8840b7",
   "metadata": {},
   "outputs": [
    {
     "name": "stdout",
     "output_type": "stream",
     "text": [
      "     City  Population\n",
      "1  Jaipur     2800000\n",
      "2    Kota     1600000\n",
      "3  Mumbai    24500000\n",
      "4    Pune    11010000\n"
     ]
    }
   ],
   "source": [
    "# Making data frame using ndarrays\n",
    "data = {'City':['Jaipur', 'Kota', 'Mumbai', 'Pune'],'Population':[2800000,1600000,24500000,11010000]}\n",
    "# inserting index\n",
    "df = pd.DataFrame(data, index=['1','2','3','4'])\n",
    "print(df)"
   ]
  },
  {
   "cell_type": "code",
   "execution_count": 10,
   "id": "c1d2279a",
   "metadata": {},
   "outputs": [
    {
     "name": "stdout",
     "output_type": "stream",
     "text": [
      "   Rollno   Name  Percentage\n",
      "0       1  Alice         NaN\n",
      "1       5    Tom        91.0\n",
      "2       3   Alex        89.0\n"
     ]
    }
   ],
   "source": [
    "# DataFrame using lists\n",
    "# What NaN means in th output?\n",
    "data = [{'Rollno': 1, 'Name': 'Alice'},{'Rollno': 5, 'Name': 'Tom', 'Percentage': 91},\n",
    "        {'Rollno': 3, 'Name': 'Alex', 'Percentage': 89}]\n",
    "df = pd.DataFrame(data)\n",
    "print(df)"
   ]
  },
  {
   "cell_type": "code",
   "execution_count": 11,
   "id": "f1720562",
   "metadata": {},
   "outputs": [
    {
     "data": {
      "text/html": [
       "<div>\n",
       "<style scoped>\n",
       "    .dataframe tbody tr th:only-of-type {\n",
       "        vertical-align: middle;\n",
       "    }\n",
       "\n",
       "    .dataframe tbody tr th {\n",
       "        vertical-align: top;\n",
       "    }\n",
       "\n",
       "    .dataframe thead th {\n",
       "        text-align: right;\n",
       "    }\n",
       "</style>\n",
       "<table border=\"1\" class=\"dataframe\">\n",
       "  <thead>\n",
       "    <tr style=\"text-align: right;\">\n",
       "      <th></th>\n",
       "      <th>Rollno</th>\n",
       "      <th>Name</th>\n",
       "    </tr>\n",
       "  </thead>\n",
       "  <tbody>\n",
       "    <tr>\n",
       "      <th>a</th>\n",
       "      <td>1</td>\n",
       "      <td>Alice</td>\n",
       "    </tr>\n",
       "    <tr>\n",
       "      <th>b</th>\n",
       "      <td>2</td>\n",
       "      <td>Tom</td>\n",
       "    </tr>\n",
       "    <tr>\n",
       "      <th>c</th>\n",
       "      <td>3</td>\n",
       "      <td>Ben</td>\n",
       "    </tr>\n",
       "  </tbody>\n",
       "</table>\n",
       "</div>"
      ],
      "text/plain": [
       "   Rollno   Name\n",
       "a       1  Alice\n",
       "b       2    Tom\n",
       "c       3    Ben"
      ]
     },
     "execution_count": 11,
     "metadata": {},
     "output_type": "execute_result"
    }
   ],
   "source": [
    "# DataFrame using Series\n",
    "d = {'Rollno' : pd.Series([1, 2, 3], index=['a', 'b', 'c']),\n",
    "   'Name' : pd.Series(['Alice', 'Tom', 'Ben'], index=['a', 'b', 'c'])}\n",
    "df = pd.DataFrame(d)\n",
    "df"
   ]
  },
  {
   "cell_type": "markdown",
   "id": "4fb11ac7",
   "metadata": {},
   "source": [
    "<p><strong><u>Playing with DataFrames in Pandas</u></strong></p>"
   ]
  },
  {
   "cell_type": "code",
   "execution_count": 13,
   "id": "9ba655c8",
   "metadata": {},
   "outputs": [
    {
     "name": "stdout",
     "output_type": "stream",
     "text": [
      "Select Rollno column\n",
      "a    1\n",
      "b    2\n",
      "c    3\n",
      "Name: Rollno, dtype: int64\n",
      "----------------------------------\n"
     ]
    }
   ],
   "source": [
    "# Column Selection from DataFrame\n",
    "print(\"Select Rollno column\")\n",
    "print(df['Rollno'])\n",
    "\n",
    "print(\"----------------------------------\")"
   ]
  },
  {
   "cell_type": "code",
   "execution_count": 14,
   "id": "ead865bb",
   "metadata": {},
   "outputs": [
    {
     "name": "stdout",
     "output_type": "stream",
     "text": [
      "Add a new column to the dataframe\n",
      "   Rollno   Name  Percentage\n",
      "a       1    Tom          88\n",
      "b       2  Alice          85\n",
      "c       3    Ben          90\n",
      "----------------------------------\n"
     ]
    }
   ],
   "source": [
    "#adding new column to the dataframe\n",
    "print(\"Add a new column to the dataframe\")\n",
    "\n",
    "df['Name']=pd.Series(['Tom', 'Alice', 'Ben', 'Tina'],index=['a','b','c','d'])\n",
    "\n",
    "df['Percentage']=pd.Series([88,85,90,78],index=['a','b','c','d'])\n",
    "\n",
    "print(df)\n",
    "\n",
    "print(\"----------------------------------\")"
   ]
  },
  {
   "cell_type": "code",
   "execution_count": 15,
   "id": "363f99ae",
   "metadata": {},
   "outputs": [
    {
     "name": "stdout",
     "output_type": "stream",
     "text": [
      "Deleting a column Percentage\n",
      "   Rollno   Name\n",
      "a       1    Tom\n",
      "b       2  Alice\n",
      "c       3    Ben\n",
      "----------------------------------\n"
     ]
    }
   ],
   "source": [
    "#Deleting a column from dataframe\n",
    "print(\"Deleting a column Percentage\")\n",
    "del df['Percentage']\n",
    "print(df)\n",
    "\n",
    "print(\"----------------------------------\")"
   ]
  },
  {
   "cell_type": "code",
   "execution_count": 16,
   "id": "14bed7ff",
   "metadata": {},
   "outputs": [
    {
     "name": "stdout",
     "output_type": "stream",
     "text": [
      "Deleting a column Name\n",
      "   Rollno\n",
      "a       1\n",
      "b       2\n",
      "c       3\n",
      "----------------------------------\n"
     ]
    }
   ],
   "source": [
    "#Deleting only column name \n",
    "print(\"Deleting a column Name\")\n",
    "df.pop('Name')\n",
    "print(df)\n",
    "\n",
    "print(\"----------------------------------\")"
   ]
  },
  {
   "cell_type": "code",
   "execution_count": 17,
   "id": "bac95d73",
   "metadata": {},
   "outputs": [
    {
     "name": "stdout",
     "output_type": "stream",
     "text": [
      "Row location by index\n",
      "Rollno    1\n",
      "Name: a, dtype: int64\n",
      "----------------------------------\n"
     ]
    }
   ],
   "source": [
    "#Locating by passing index values\n",
    "print(\"Row location by index\")\n",
    "print(df.loc['a'])\n",
    "\n",
    "print(\"----------------------------------\")"
   ]
  },
  {
   "cell_type": "code",
   "execution_count": 18,
   "id": "7ffaf067",
   "metadata": {},
   "outputs": [
    {
     "name": "stdout",
     "output_type": "stream",
     "text": [
      "Row location by row number\n",
      "Rollno    3\n",
      "Name: c, dtype: int64\n",
      "----------------------------------\n"
     ]
    }
   ],
   "source": [
    "##locating by row number \n",
    "print(\"Row location by row number\")\n",
    "print(df.iloc[2])\n",
    "\n",
    "print(\"----------------------------------\")"
   ]
  },
  {
   "cell_type": "code",
   "execution_count": 19,
   "id": "17b09aa8",
   "metadata": {},
   "outputs": [
    {
     "name": "stdout",
     "output_type": "stream",
     "text": [
      "Slicing or Selection of multiple rows\n",
      "   Rollno\n",
      "b       2\n",
      "c       3\n",
      "----------------------------------\n"
     ]
    }
   ],
   "source": [
    "# selection of multiple rows\n",
    "print(\"Slicing or Selection of multiple rows\")\n",
    "print(df[1:3])\n",
    "\n",
    "\n",
    "\n",
    "\n",
    "print(\"----------------------------------\")"
   ]
  },
  {
   "cell_type": "markdown",
   "id": "30d42711",
   "metadata": {},
   "source": [
    "<p><strong><u>Reading various files formats using Pandas</u></strong></p>"
   ]
  },
  {
   "cell_type": "code",
   "execution_count": 76,
   "id": "36a94f8f",
   "metadata": {},
   "outputs": [
    {
     "name": "stdout",
     "output_type": "stream",
     "text": [
      "-----------------------Reading .csv file----------------------------\n",
      "         date   vaccines      tests  confirmed  deaths  stringency_index\n",
      "0  01-01-2021  4225756.0  258903651   20254160  354117             71.76\n",
      "1  02-01-2021  4225756.0  260013258   20554622  356674             71.76\n",
      "2  03-01-2021  4225756.0  261055747   20763475  358131             71.76\n",
      "3  04-01-2021  4563260.0  262450448   20947480  360225             71.76\n",
      "4  05-01-2021  4836469.0  264405125   21182522  363915             71.76\n",
      "-----------------------Reading .xlsx file----------------------------\n",
      "        date   vaccines      tests  confirmed  deaths  stringency_index\n",
      "0 2021-01-01  4225756.0  258903651   20254160  354117             71.76\n",
      "1 2021-01-02  4225756.0  260013258   20554622  356674             71.76\n",
      "2 2021-01-03  4225756.0  261055747   20763475  358131             71.76\n",
      "3 2021-01-04  4563260.0  262450448   20947480  360225             71.76\n",
      "4 2021-01-05  4836469.0  264405125   21182522  363915             71.76\n"
     ]
    }
   ],
   "source": [
    "print(\"-----------------------Reading .csv file----------------------------\")\n",
    "import pandas as pd\n",
    "# USA dataset for Covid-19 and lockdown stringency measures\n",
    "# Reading CSV file\n",
    "\n",
    "#df = pd.read_csv('USA.csv', names = column)\n",
    "df = pd.read_csv('USA.csv')\n",
    "print(df.head())\n",
    "\n",
    "print(\"-----------------------Reading .xlsx file----------------------------\")\n",
    "# Please install \"pip install openpyxl\"\n",
    "# place \"r\" before the path of file string which will to address special character, \n",
    "df = pd.read_excel (r'USA.xlsx')\n",
    "print(df.head())\n",
    "\n"
   ]
  },
  {
   "cell_type": "code",
   "execution_count": 81,
   "id": "681d64ee",
   "metadata": {},
   "outputs": [],
   "source": [
    "# Save your dataframe to a .csv file\n",
    "# list of Students, degree, percentage\n",
    "student = [\"Tom\", \"Jack\", \"Alice\", \"Harry\"]\n",
    "degree = [\"BSc\", \"MSc\", \"MD\", \"MBA\"]\n",
    "percentage = [90, 40, 80, 98]\n",
    "   \n",
    "# dictionary of lists \n",
    "dict = {'name': student, 'degree': degree, 'percentage': percentage} \n",
    "     \n",
    "df = pd.DataFrame(dict)\n",
    "  \n",
    "# Saving the dataframe to .csv file\n",
    "df.to_csv('score.csv')"
   ]
  },
  {
   "cell_type": "code",
   "execution_count": 82,
   "id": "4a182993",
   "metadata": {},
   "outputs": [
    {
     "name": "stdout",
     "output_type": "stream",
     "text": [
      "------------- df before deletion------------\n",
      "    name degree  percentage\n",
      "0    Tom    BSc          90\n",
      "1   Jack    MSc          40\n",
      "2  Alice     MD          80\n",
      "3  Harry    MBA          98\n",
      "------------- df after deletion------------\n",
      "    name degree  percentage\n",
      "0    Tom    BSc          90\n",
      "2  Alice     MD          80\n",
      "3  Harry    MBA          98\n"
     ]
    }
   ],
   "source": [
    "print('------------- df before deletion------------')\n",
    "print(df)\n",
    "# Drop the row with label 1\n",
    "df = df.drop(1)\n",
    "print('------------- df after deletion--------------')\n",
    "print(df)"
   ]
  },
  {
   "cell_type": "markdown",
   "id": "1b1a6e06",
   "metadata": {},
   "source": [
    "<p><strong><u>Functions in Pandas</u></strong></p>"
   ]
  },
  {
   "cell_type": "code",
   "execution_count": 8,
   "id": "05dec969",
   "metadata": {},
   "outputs": [
    {
     "name": "stdout",
     "output_type": "stream",
     "text": [
      "---------------Series empty or not?----------------\n",
      "False\n"
     ]
    }
   ],
   "source": [
    "Temperature = [33,34,35,29,40,39]\n",
    "s = pd.Series(Temperature)\n",
    "print (\"---------------Series empty or not?----------------\")\n",
    "print(s.empty)"
   ]
  },
  {
   "cell_type": "code",
   "execution_count": 9,
   "id": "c86419b1",
   "metadata": {},
   "outputs": [
    {
     "name": "stdout",
     "output_type": "stream",
     "text": [
      "---------------What are the dimensions?----------------\n",
      "1\n"
     ]
    }
   ],
   "source": [
    "s = pd.Series(Temperature)\n",
    "print (\"---------------What are the dimensions?----------------\")\n",
    "print(s.ndim)"
   ]
  },
  {
   "cell_type": "code",
   "execution_count": 12,
   "id": "a9926d31",
   "metadata": {},
   "outputs": [
    {
     "name": "stdout",
     "output_type": "stream",
     "text": [
      "-----------Returns the length of the series.------------\n",
      "6\n"
     ]
    }
   ],
   "source": [
    "s = pd.Series(Temperature)\n",
    "print (\"-----------Returns the length of the series.------------\")\n",
    "print(s.size)"
   ]
  },
  {
   "cell_type": "code",
   "execution_count": 15,
   "id": "82bee73f",
   "metadata": {},
   "outputs": [
    {
     "name": "stdout",
     "output_type": "stream",
     "text": [
      "-----------Returns last two rows------------\n",
      "4    40\n",
      "5    39\n",
      "dtype: int64\n"
     ]
    }
   ],
   "source": [
    "s = pd.Series(Temperature)\n",
    "#print (\"-----------Returns First two rows------------\")\n",
    "#print(s.head(2))\n",
    "print (\"-----------Returns last two rows------------\")\n",
    "print(s.tail(2))"
   ]
  },
  {
   "cell_type": "code",
   "execution_count": 17,
   "id": "609a7561",
   "metadata": {},
   "outputs": [
    {
     "name": "stdout",
     "output_type": "stream",
     "text": [
      "--------Returns dimensions of the dataframe--------\n",
      "(4, 2)\n"
     ]
    }
   ],
   "source": [
    "data = {'City':['Jaipur', 'Kota', 'Mumbai', 'Pune'],'Population':[2800000,1600000,24500000,11010000]}\n",
    "df = pd.DataFrame(data, index=['1','2','3','4'])\n",
    "print (\"--------Returns dimensions of the dataframe--------\")\n",
    "print(df.shape)"
   ]
  },
  {
   "cell_type": "code",
   "execution_count": 19,
   "id": "1b24179f",
   "metadata": {},
   "outputs": [
    {
     "name": "stdout",
     "output_type": "stream",
     "text": [
      "-----------Transpose of the dataframe-----------\n",
      "                  1        2         3         4\n",
      "City         Jaipur     Kota    Mumbai      Pune\n",
      "Population  2800000  1600000  24500000  11010000\n"
     ]
    }
   ],
   "source": [
    "print (\"-----------Transpose of the dataframe-----------\")\n",
    "print(df.T)"
   ]
  },
  {
   "cell_type": "code",
   "execution_count": 20,
   "id": "40d0ad45",
   "metadata": {},
   "outputs": [
    {
     "name": "stdout",
     "output_type": "stream",
     "text": [
      "-----------Print row axis and column axis labels-----------\n",
      "[Index(['1', '2', '3', '4'], dtype='object'), Index(['City', 'Population'], dtype='object')]\n"
     ]
    }
   ],
   "source": [
    "print (\"-----------Print row axis and column axis labels-----------\")\n",
    "print(df.axes)"
   ]
  },
  {
   "cell_type": "code",
   "execution_count": 21,
   "id": "bd08f6c3",
   "metadata": {},
   "outputs": [
    {
     "name": "stdout",
     "output_type": "stream",
     "text": [
      "-----------PData types of variables-----------\n",
      "City          object\n",
      "Population     int64\n",
      "dtype: object\n"
     ]
    }
   ],
   "source": [
    "print (\"-----------Data types of variables-----------\")\n",
    "print(df.dtypes)"
   ]
  },
  {
   "cell_type": "code",
   "execution_count": 22,
   "id": "8962c923",
   "metadata": {},
   "outputs": [
    {
     "name": "stdout",
     "output_type": "stream",
     "text": [
      "-----------object empty or not-----------\n",
      "False\n"
     ]
    }
   ],
   "source": [
    "print (\"-----------object empty or not-----------\")\n",
    "print(df.empty)"
   ]
  },
  {
   "cell_type": "markdown",
   "id": "a3180885",
   "metadata": {},
   "source": [
    "<p><strong><u>Basic Statistics in Pandas</u></strong></p>\n",
    "\n",
    "* Range\n",
    "- The range gives a measure of how spread apart the values are.\n",
    "\n",
    "- The range is simply calculated as the maximum value – minimum value\n",
    "\n",
    "Max(xi)–Min(xi)\n",
    "Numpy implements this as a point to point function np.ptp.\n",
    "\n",
    "\n",
    "* Standard Deviation\n",
    "- The variance can get very large for large data sets and so we will often use the standard deviation, which is the square root of the variance:\n",
    "\n",
    "\n",
    "* Standard Error\n",
    "- The standard error of the mean (SE of the mean) estimates the variability between sample means that you would obtain if you took multiple samples from the same population. The standard error of the mean estimates the variability between samples whereas the standard deviation measures the variability within a single sample.\n",
    "\n"
   ]
  },
  {
   "cell_type": "code",
   "execution_count": 57,
   "id": "66c5a3be",
   "metadata": {},
   "outputs": [
    {
     "name": "stdout",
     "output_type": "stream",
     "text": [
      "-----------Summary of statistics-----------\n",
      "              AQI\n",
      "count   10.000000\n",
      "mean   151.800000\n",
      "std     45.972939\n",
      "min     90.000000\n",
      "25%    123.500000\n",
      "50%    140.000000\n",
      "75%    175.000000\n",
      "max    230.000000\n",
      "-----------Other Function -----------\n",
      "Sum of AQI =  1518\n",
      "Mean AQI = 151.8\n",
      "AQI Standard Deviataion =  45.97293890008677\n",
      "Median =  140.0\n",
      "Mode = 0    140\n",
      "dtype: int64\n",
      "Maximum AQI =  230\n",
      "Minimum AQI =  90\n"
     ]
    }
   ],
   "source": [
    "#Create a Dictionary of series\n",
    "AQI = {'Name':pd.Series(['Jaipur','Kota','Mumbai','Delhi','Pune','Kolkatta','Nagpur',\n",
    "   'Kochi','Chennai','Noida']),\n",
    "   'AQI':pd.Series([123,140,90,220,140,160,180,110,125,230])\n",
    "}\n",
    "\n",
    "#Create a DataFrame\n",
    "df = pd.DataFrame(AQI)\n",
    "print (\"-----------Summary of statistics-----------\")\n",
    "print(df.describe())\n",
    "print (\"-----------Other Functions-----------\")\n",
    "print('Sum of AQI = ', df['AQI'].sum())\n",
    "print('Mean AQI =',df['AQI'].mean())\n",
    "print('AQI Standard Deviataion = ',df['AQI'].std())\n",
    "print('Median = ', df['AQI'].median())\n",
    "print('Mode =',df['AQI'].mode())\n",
    "print('Maximum AQI = ',df['AQI'].max())\n",
    "print('Minimum AQI = ',df['AQI'].min())"
   ]
  },
  {
   "cell_type": "markdown",
   "id": "6e6528fd",
   "metadata": {},
   "source": [
    "<p><strong><u>Window Functions</u></strong></p>\n",
    "<font face=\"Helvetica Neue, Helvetica, Arial, sans-serif\"><span style=\"font-size: 14px;\">Specially for numeric data, few functions such as like expanding, rolling, & exponentially moving weights are available:</span></font>\n",
    "\n",
    "<font face=\"Helvetica Neue, Helvetica, Arial, sans-serif\"><span style=\"font-size: 14px;\">We will use .rolling() function which can be used on a series with the window=n argument.</span></font>\n",
    "\n"
   ]
  },
  {
   "cell_type": "code",
   "execution_count": 72,
   "id": "e9f074ee",
   "metadata": {},
   "outputs": [
    {
     "name": "stdout",
     "output_type": "stream",
     "text": [
      "-----------Rolling Mean-----------\n",
      "   AvgRain  AvgTemp\n",
      "0      NaN      NaN\n",
      "1      NaN      NaN\n",
      "2      NaN      NaN\n",
      "3   109.25    32.25\n",
      "4   131.50    31.25\n",
      "5   152.50    31.25\n",
      "6   150.00    32.50\n",
      "7   147.50    31.75\n",
      "8   168.75    32.00\n",
      "9   186.25    32.25\n"
     ]
    }
   ],
   "source": [
    "#Create a Dictionary of series\n",
    "import numpy as np\n",
    "\n",
    "Rain = {'Name':pd.Series(['Jaipur','Kota','Mumbai','Delhi','Pune','Kolkatta','Nagpur',\n",
    "   'Kochi','Chennai','Noida']),\n",
    "   'AvgRain':pd.Series([51,76,190,180,140,160,180,110,225,230]),\n",
    "   'AvgTemp':pd.Series([35,33,27,34,31,33,32,31,32,34])\n",
    "}\n",
    "#Create a DataFrame\n",
    "df = pd.DataFrame(Rain)\n",
    "#print(df)\n",
    "\n",
    "#Create a DataFrame\n",
    "df = pd.DataFrame(Rain)\n",
    "print (\"-----------Rolling Mean-----------\")\n",
    "print(df.rolling(window=4).mean())\n",
    "\n",
    "#print(df)\n",
    "#print(df.rolling(window=3).mean())"
   ]
  },
  {
   "cell_type": "markdown",
   "id": "5d3b81f8",
   "metadata": {},
   "source": [
    "#### getting to know pandas little more in handling data"
   ]
  },
  {
   "cell_type": "code",
   "execution_count": 20,
   "id": "15a3fe93",
   "metadata": {},
   "outputs": [
    {
     "data": {
      "text/html": [
       "<div>\n",
       "<style scoped>\n",
       "    .dataframe tbody tr th:only-of-type {\n",
       "        vertical-align: middle;\n",
       "    }\n",
       "\n",
       "    .dataframe tbody tr th {\n",
       "        vertical-align: top;\n",
       "    }\n",
       "\n",
       "    .dataframe thead th {\n",
       "        text-align: right;\n",
       "    }\n",
       "</style>\n",
       "<table border=\"1\" class=\"dataframe\">\n",
       "  <thead>\n",
       "    <tr style=\"text-align: right;\">\n",
       "      <th></th>\n",
       "      <th>Rollno</th>\n",
       "    </tr>\n",
       "  </thead>\n",
       "  <tbody>\n",
       "    <tr>\n",
       "      <th>a</th>\n",
       "      <td>1</td>\n",
       "    </tr>\n",
       "    <tr>\n",
       "      <th>b</th>\n",
       "      <td>2</td>\n",
       "    </tr>\n",
       "    <tr>\n",
       "      <th>c</th>\n",
       "      <td>3</td>\n",
       "    </tr>\n",
       "  </tbody>\n",
       "</table>\n",
       "</div>"
      ],
      "text/plain": [
       "   Rollno\n",
       "a       1\n",
       "b       2\n",
       "c       3"
      ]
     },
     "execution_count": 20,
     "metadata": {},
     "output_type": "execute_result"
    }
   ],
   "source": [
    "#The head() function is used to get the first n rows\n",
    "df.head()"
   ]
  },
  {
   "cell_type": "code",
   "execution_count": 22,
   "id": "2e582a92",
   "metadata": {},
   "outputs": [
    {
     "data": {
      "text/plain": [
       "Rollno    int64\n",
       "dtype: object"
      ]
     },
     "execution_count": 22,
     "metadata": {},
     "output_type": "execute_result"
    }
   ],
   "source": [
    "#to know the datatype \n",
    "df.dtypes"
   ]
  },
  {
   "cell_type": "code",
   "execution_count": 23,
   "id": "11dbc8ad",
   "metadata": {},
   "outputs": [
    {
     "data": {
      "text/html": [
       "<div>\n",
       "<style scoped>\n",
       "    .dataframe tbody tr th:only-of-type {\n",
       "        vertical-align: middle;\n",
       "    }\n",
       "\n",
       "    .dataframe tbody tr th {\n",
       "        vertical-align: top;\n",
       "    }\n",
       "\n",
       "    .dataframe thead th {\n",
       "        text-align: right;\n",
       "    }\n",
       "</style>\n",
       "<table border=\"1\" class=\"dataframe\">\n",
       "  <thead>\n",
       "    <tr style=\"text-align: right;\">\n",
       "      <th></th>\n",
       "      <th>Rollno</th>\n",
       "    </tr>\n",
       "  </thead>\n",
       "  <tbody>\n",
       "    <tr>\n",
       "      <th>count</th>\n",
       "      <td>3.0</td>\n",
       "    </tr>\n",
       "    <tr>\n",
       "      <th>mean</th>\n",
       "      <td>2.0</td>\n",
       "    </tr>\n",
       "    <tr>\n",
       "      <th>std</th>\n",
       "      <td>1.0</td>\n",
       "    </tr>\n",
       "    <tr>\n",
       "      <th>min</th>\n",
       "      <td>1.0</td>\n",
       "    </tr>\n",
       "    <tr>\n",
       "      <th>25%</th>\n",
       "      <td>1.5</td>\n",
       "    </tr>\n",
       "    <tr>\n",
       "      <th>50%</th>\n",
       "      <td>2.0</td>\n",
       "    </tr>\n",
       "    <tr>\n",
       "      <th>75%</th>\n",
       "      <td>2.5</td>\n",
       "    </tr>\n",
       "    <tr>\n",
       "      <th>max</th>\n",
       "      <td>3.0</td>\n",
       "    </tr>\n",
       "  </tbody>\n",
       "</table>\n",
       "</div>"
      ],
      "text/plain": [
       "       Rollno\n",
       "count     3.0\n",
       "mean      2.0\n",
       "std       1.0\n",
       "min       1.0\n",
       "25%       1.5\n",
       "50%       2.0\n",
       "75%       2.5\n",
       "max       3.0"
      ]
     },
     "execution_count": 23,
     "metadata": {},
     "output_type": "execute_result"
    }
   ],
   "source": [
    "# to know the statistic discription of the data\n",
    "df.describe()"
   ]
  },
  {
   "cell_type": "code",
   "execution_count": 24,
   "id": "5756c887",
   "metadata": {},
   "outputs": [
    {
     "data": {
      "text/plain": [
       "Rollno    3\n",
       "dtype: int64"
      ]
     },
     "execution_count": 24,
     "metadata": {},
     "output_type": "execute_result"
    }
   ],
   "source": [
    "#to find the max index value\n",
    "df.max()"
   ]
  },
  {
   "cell_type": "code",
   "execution_count": 25,
   "id": "50bc2d4f",
   "metadata": {},
   "outputs": [
    {
     "data": {
      "text/plain": [
       "Rollno    1\n",
       "dtype: int64"
      ]
     },
     "execution_count": 25,
     "metadata": {},
     "output_type": "execute_result"
    }
   ],
   "source": [
    "# to find the minimum index value\n",
    "df.min()"
   ]
  },
  {
   "cell_type": "code",
   "execution_count": 26,
   "id": "3bf17c13",
   "metadata": {},
   "outputs": [
    {
     "data": {
      "text/plain": [
       "Rollno    2.0\n",
       "dtype: float64"
      ]
     },
     "execution_count": 26,
     "metadata": {},
     "output_type": "execute_result"
    }
   ],
   "source": [
    "# to find the mean of the index\n",
    "df.mean()"
   ]
  },
  {
   "cell_type": "code",
   "execution_count": 27,
   "id": "ec90b164",
   "metadata": {},
   "outputs": [
    {
     "data": {
      "text/plain": [
       "Rollno    1.0\n",
       "dtype: float64"
      ]
     },
     "execution_count": 27,
     "metadata": {},
     "output_type": "execute_result"
    }
   ],
   "source": [
    "#to find the std deviation\n",
    "df.std()"
   ]
  },
  {
   "attachments": {
    "numpy.png": {
     "image/png": "[encoded data removed]"
    }
   },
   "cell_type": "markdown",
   "id": "bf98c985",
   "metadata": {},
   "source": [
    "## <span style = 'color:blue'> Introduction to Numpy</span>\n",
    "\n",
    "![numpy.png](attachment:numpy.png)\n",
    "- NumPy is a Python library used for working with arrays\n",
    "- NumPy stands for Numerical Python.\n",
    "- for further numpy documentation please refer here https://numpy.org/\n",
    "\n"
   ]
  },
  {
   "cell_type": "markdown",
   "id": "d073384c",
   "metadata": {},
   "source": [
    "##### It's Numpy because\n",
    "\n",
    "- we have lists to serve the purpose of arrays, but they are slow to process.\n",
    "\n",
    "- Arrays are very frequently used in data science, where speed and resources are very important.\n",
    "\n",
    "- NumPy aims to provide an array object that is up to 50x - 60x faster than traditional Python lists.\n",
    "\n",
    "- Arrays are very frequently used in data science, where speed and resources are very important.\n",
    "\n",
    "\n",
    "\n",
    "\n"
   ]
  },
  {
   "cell_type": "code",
   "execution_count": 63,
   "id": "7277e41f",
   "metadata": {},
   "outputs": [
    {
     "name": "stdout",
     "output_type": "stream",
     "text": [
      "1.19.2\n"
     ]
    }
   ],
   "source": [
    "#Checking the numpy version\n",
    "#Importing numpy library\n",
    "#Importing it as np for our convineance\n",
    "import numpy as np\n",
    "\n",
    "print(np.__version__)"
   ]
  },
  {
   "cell_type": "markdown",
   "id": "42ea098a",
   "metadata": {},
   "source": [
    "#### Data Types in NumPy\n",
    "\n",
    "- integer\n",
    "- boolean\n",
    "- unsigned integer\n",
    "- float\n",
    "- complex float\n",
    "- timedelta\n",
    "- datetime\n",
    "- object\n",
    "- string\n",
    "- unicode string\n",
    "- fixed chunk of memory for other type ( void )"
   ]
  },
  {
   "cell_type": "code",
   "execution_count": 64,
   "id": "5a85e90e",
   "metadata": {},
   "outputs": [
    {
     "name": "stdout",
     "output_type": "stream",
     "text": [
      "[  12   32  123   24 6667]\n"
     ]
    }
   ],
   "source": [
    "# Basic Arrey operation\n",
    "arr = np.array([12, 32,123, 24, 6667])\n",
    "\n",
    "print(arr)"
   ]
  },
  {
   "cell_type": "code",
   "execution_count": 65,
   "id": "9d39433e",
   "metadata": {},
   "outputs": [
    {
     "name": "stdout",
     "output_type": "stream",
     "text": [
      "[  12   32  123   24 6667]\n",
      "<class 'numpy.ndarray'>\n"
     ]
    }
   ],
   "source": [
    "#knowing the class and type \n",
    "arr = np.array([12, 32,123, 24, 6667])\n",
    "\n",
    "print(arr)\n",
    "\n",
    "print(type(arr))"
   ]
  },
  {
   "cell_type": "code",
   "execution_count": 66,
   "id": "ca68a14f",
   "metadata": {},
   "outputs": [
    {
     "name": "stdout",
     "output_type": "stream",
     "text": [
      "12\n"
     ]
    }
   ],
   "source": [
    "#printing the first element from array\n",
    "arr = np.array([12, 2, 73])\n",
    "\n",
    "print(arr[0])"
   ]
  },
  {
   "cell_type": "code",
   "execution_count": 67,
   "id": "dabe0849",
   "metadata": {},
   "outputs": [
    {
     "name": "stdout",
     "output_type": "stream",
     "text": [
      "7\n"
     ]
    }
   ],
   "source": [
    "#Getting diffrent elements from the following array and add them.\n",
    "arr = np.array([1, 2, 3, 4])\n",
    "\n",
    "print(arr[2] + arr[3])"
   ]
  },
  {
   "cell_type": "markdown",
   "id": "0deb0763",
   "metadata": {},
   "source": [
    "##### 2-D Arrays\n",
    "- Access the element on the first row, second column:"
   ]
  },
  {
   "cell_type": "code",
   "execution_count": 68,
   "id": "94defc96",
   "metadata": {},
   "outputs": [
    {
     "name": "stdout",
     "output_type": "stream",
     "text": [
      "3nd element on 1st row:  13\n"
     ]
    }
   ],
   "source": [
    "arr = np.array([[11,12,13,4,5], [16,17,28,1,10]])\n",
    "\n",
    "print('3nd element on 1st row: ', arr[0, 2])"
   ]
  },
  {
   "cell_type": "markdown",
   "id": "f7a99fbb",
   "metadata": {},
   "source": [
    "###### 3-D Arrays\n",
    "- To access elements from 3-D arrays we can use comma separated integers representing the dimensions and the index of the element.\n",
    "\n"
   ]
  },
  {
   "cell_type": "code",
   "execution_count": 69,
   "id": "fdeb8e3a",
   "metadata": {},
   "outputs": [
    {
     "name": "stdout",
     "output_type": "stream",
     "text": [
      "86\n"
     ]
    }
   ],
   "source": [
    "\n",
    "arr = np.array([[[4, 2, 1], [24, 15, 86]], [[71, 28,12], [1, 21, 92]]])\n",
    "\n",
    "print(arr[0, 1, 2])"
   ]
  },
  {
   "cell_type": "markdown",
   "id": "2ce1ac64",
   "metadata": {},
   "source": [
    "##### Indexing\n"
   ]
  },
  {
   "cell_type": "code",
   "execution_count": 70,
   "id": "bf7ddfa9",
   "metadata": {},
   "outputs": [
    {
     "name": "stdout",
     "output_type": "stream",
     "text": [
      "Last element from 2nd dim:  110\n"
     ]
    }
   ],
   "source": [
    "#We can access an array element by referring to its index number.\n",
    "arr = np.array([[11,12,13,14,15], [16,17,18,19,110]])\n",
    "\n",
    "print('Last element from 2nd dim: ', arr[1, -1])"
   ]
  },
  {
   "cell_type": "markdown",
   "id": "8a09f04c",
   "metadata": {},
   "source": [
    "##### Slicing"
   ]
  },
  {
   "cell_type": "code",
   "execution_count": 82,
   "id": "deecf215",
   "metadata": {},
   "outputs": [
    {
     "name": "stdout",
     "output_type": "stream",
     "text": [
      "[22 33 44 55]\n"
     ]
    }
   ],
   "source": [
    "#Slicing an array in NumPy means to extract a subarray out of the complete array\n",
    "arr = np.array([11,22, 33,44, 55, 66, 77])\n",
    "\n",
    "print(arr[1:5])"
   ]
  },
  {
   "cell_type": "code",
   "execution_count": 72,
   "id": "22cb7a58",
   "metadata": {},
   "outputs": [
    {
     "name": "stdout",
     "output_type": "stream",
     "text": [
      "[5 6]\n"
     ]
    }
   ],
   "source": [
    "#negitive slicing\n",
    "arr = np.array([1, 2, 3, 4, 5, 6, 7])\n",
    "\n",
    "print(arr[-3:-1])"
   ]
  },
  {
   "cell_type": "markdown",
   "id": "697edd01",
   "metadata": {},
   "source": [
    "##### Shape of the Array\n",
    "\n",
    "- The shape of an array is the number of elements in each dimension"
   ]
  },
  {
   "cell_type": "code",
   "execution_count": 73,
   "id": "5cdf8887",
   "metadata": {},
   "outputs": [
    {
     "name": "stdout",
     "output_type": "stream",
     "text": [
      "(2, 4)\n"
     ]
    }
   ],
   "source": [
    "arr = np.array([[1, 2, 3, 4], [5, 6, 7, 8]])\n",
    "\n",
    "print(arr.shape)"
   ]
  },
  {
   "cell_type": "code",
   "execution_count": 74,
   "id": "0afba9ed",
   "metadata": {},
   "outputs": [
    {
     "name": "stdout",
     "output_type": "stream",
     "text": [
      "[[[[[1 2 3 4]]]]]\n",
      "shape of array : (1, 1, 1, 1, 4)\n"
     ]
    }
   ],
   "source": [
    "arr = np.array([1, 2, 3, 4], ndmin=5)\n",
    "\n",
    "print(arr)\n",
    "print('shape of array :', arr.shape)"
   ]
  },
  {
   "cell_type": "code",
   "execution_count": 75,
   "id": "db409716",
   "metadata": {},
   "outputs": [
    {
     "name": "stdout",
     "output_type": "stream",
     "text": [
      "[[ 1  2  3]\n",
      " [ 4  5  6]\n",
      " [ 7  8  9]\n",
      " [10 11 12]]\n"
     ]
    }
   ],
   "source": [
    "#reshaping the array\n",
    "#reshaping the array from 1D to 2D\n",
    "arr = np.array([1, 2, 3, 4, 5, 6, 7, 8, 9, 10, 11, 12])\n",
    "\n",
    "newarr = arr.reshape(4, 3)\n",
    "\n",
    "print(newarr)"
   ]
  },
  {
   "cell_type": "code",
   "execution_count": 76,
   "id": "8971e69e",
   "metadata": {},
   "outputs": [
    {
     "name": "stdout",
     "output_type": "stream",
     "text": [
      "[[[ 1  2]\n",
      "  [ 3  4]\n",
      "  [ 5  6]]\n",
      "\n",
      " [[ 7  8]\n",
      "  [ 9 10]\n",
      "  [11 12]]]\n"
     ]
    }
   ],
   "source": [
    "#reshaping the array\n",
    "#reshaping the array from 1D to 3D\n",
    "arr = np.array([1, 2, 3, 4, 5, 6, 7, 8, 9, 10, 11, 12])\n",
    "\n",
    "newarr = arr.reshape(2, 3, 2)\n",
    "\n",
    "print(newarr)"
   ]
  },
  {
   "cell_type": "markdown",
   "id": "e7e69540",
   "metadata": {},
   "source": [
    "##### Joining and Splitting of the array\n",
    "- The join() method joins all elements of an array into a string\n",
    "- The split() method splits a String object into an array of strings by separating the string into substrings"
   ]
  },
  {
   "cell_type": "code",
   "execution_count": 77,
   "id": "0c3b3f55",
   "metadata": {},
   "outputs": [
    {
     "name": "stdout",
     "output_type": "stream",
     "text": [
      "[1 2 3 4 5 6]\n"
     ]
    }
   ],
   "source": [
    "#Joining\n",
    "arr1 = np.array([1, 2, 3])\n",
    "\n",
    "arr2 = np.array([4, 5, 6])\n",
    "\n",
    "arr = np.concatenate((arr1, arr2))\n",
    "\n",
    "print(arr)"
   ]
  },
  {
   "cell_type": "code",
   "execution_count": 78,
   "id": "6698f5e9",
   "metadata": {},
   "outputs": [
    {
     "name": "stdout",
     "output_type": "stream",
     "text": [
      "[array([1, 2]), array([3, 4]), array([5, 6])]\n"
     ]
    }
   ],
   "source": [
    "#splitting\n",
    "arr = np.array([1, 2, 3, 4, 5, 6])\n",
    "\n",
    "newarr = np.array_split(arr, 3)\n",
    "\n",
    "print(newarr)"
   ]
  },
  {
   "cell_type": "code",
   "execution_count": 79,
   "id": "67128bc4",
   "metadata": {},
   "outputs": [
    {
     "name": "stdout",
     "output_type": "stream",
     "text": [
      "(array([3, 5, 6], dtype=int64),)\n"
     ]
    }
   ],
   "source": [
    "# searching arrays\n",
    "arr = np.array([1, 2, 3, 4, 5, 4, 4])\n",
    "\n",
    "x = np.where(arr == 4)\n",
    "\n",
    "print(x)"
   ]
  },
  {
   "cell_type": "markdown",
   "id": "958f81f8",
   "metadata": {},
   "source": [
    "##### Sorting arrays"
   ]
  },
  {
   "cell_type": "code",
   "execution_count": 80,
   "id": "3a897cc5",
   "metadata": {},
   "outputs": [
    {
     "name": "stdout",
     "output_type": "stream",
     "text": [
      "[1 2 3 4 4 4 5]\n",
      "[0 1 2 3]\n"
     ]
    }
   ],
   "source": [
    "#Sorting an array means to arrange the elements in the array in a certain order\n",
    "print(np.sort(arr))\n",
    "arr = np.array([3, 2, 0, 1])\n",
    "\n",
    "print(np.sort(arr))"
   ]
  },
  {
   "cell_type": "markdown",
   "id": "7ddeff1b",
   "metadata": {},
   "source": [
    "##### Filter\n"
   ]
  },
  {
   "cell_type": "code",
   "execution_count": 84,
   "id": "c088bab7",
   "metadata": {},
   "outputs": [
    {
     "name": "stdout",
     "output_type": "stream",
     "text": [
      "[41 43]\n"
     ]
    }
   ],
   "source": [
    "#The filter() method filters the given sequence with the help of a function that tests each element in the sequence to be true or not.\n",
    "arr = np.array([41, 42, 43, 44])\n",
    "\n",
    "x = [True, False, True, False]\n",
    "\n",
    "newarr = arr[x]\n",
    "\n",
    "print(newarr)"
   ]
  },
  {
   "cell_type": "markdown",
   "id": "2aa10431",
   "metadata": {},
   "source": [
    "### Thank you"
   ]
  },
  {
   "cell_type": "code",
   "execution_count": null,
   "id": "51e1086b",
   "metadata": {},
   "outputs": [],
   "source": []
  },
  {
   "cell_type": "code",
   "execution_count": null,
   "id": "962b8f73",
   "metadata": {},
   "outputs": [],
   "source": []
  },
  {
   "cell_type": "code",
   "execution_count": null,
   "id": "4dc99a74",
   "metadata": {},
   "outputs": [],
   "source": []
  }
 ],
 "metadata": {
  "kernelspec": {
   "display_name": "Python 3 (ipykernel)",
   "language": "python",
   "name": "python3"
  },
  "language_info": {
   "codemirror_mode": {
    "name": "ipython",
    "version": 3
   },
   "file_extension": ".py",
   "mimetype": "text/x-python",
   "name": "python",
   "nbconvert_exporter": "python",
   "pygments_lexer": "ipython3",
   "version": "3.9.7"
  }
 },
 "nbformat": 4,
 "nbformat_minor": 5
}
