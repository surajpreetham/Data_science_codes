{
 "cells": [
  {
   "cell_type": "code",
   "execution_count": 16,
   "id": "dcc74bf8",
   "metadata": {},
   "outputs": [],
   "source": [
    "import pandas as pd\n",
    "# from datetime import date,datetime\n",
    "\n",
    "#Question-1 \n",
    "def list_form(l):     #Preparing a list by concatenating 'Project' with an integer without directly giving the data\n",
    "    for i in range(1,15):     #Function to append the Project and integer\n",
    "        l.append('Project ' + str(i))\n",
    "    return l\n",
    "p = list()  #Creating an emplt list to get the Project column\n",
    "Project = list_form(p)\n",
    "Data1 = {'ID': ['A001','A002','A003','A004','A005','A002','A005','A003','A001','A003','A001','A004','A004','A005'],             #Data1 first table is entered\n",
    "           'Project': Project, 'Cost':[1002000, 2000000, 4500000, 5500000, 'NaN',680000,400000,350000, 'NaN',300000,2000000,1000000,3000000,200000],\n",
    "         'Status': ['Finished','Ongoing','Finished','Ongoing','Finished','Failed','Finished','Failed','Ongoing','Finished','Failed','Ongoing','Finished','Finished']}\n",
    "df1 = pd.DataFrame(Data1)\n",
    "df1.to_csv(r'F:\\Skillovilla Python\\Project_DataFrame.csv', index=False)\n",
    "\n",
    "\n",
    "Data2 = {'ID': ['A001','A002','A003','A004','A005'], 'Name':['John Alter','Alice Luxumberg','Tom Sabestine','Nina Adgra','Amy Johny'], 'City':['Paris','London','Berlin','Newyork','Madrid'],'Age':[25,27,29,31,30] }\n",
    "df2 = pd.DataFrame(Data2)  #End of Employee DataFrame Table\n",
    "df2.to_csv(r'F:\\Skillovilla Python\\Employee_DataFrame.csv', index=False)\n",
    "\n",
    "Data3 = {'ID': ['A001','A002','A003','A004','A005'], 'Designation level':[2,2,3,2,3]}\n",
    "df3 = pd.DataFrame(Data3)\n",
    "df3.to_csv(r'F:\\Skillovilla Python\\Seniority_level_DataFrame.csv', index=False)   #csv Files Created"
   ]
  },
  {
   "cell_type": "code",
   "execution_count": 18,
   "id": "25c53551",
   "metadata": {},
   "outputs": [],
   "source": [
    "df1 = pd.read_csv(r'F:\\Skillovilla Python\\Project_DataFrame.csv')\n",
    "df2 = pd.read_csv(r'F:\\Skillovilla Python\\Employee_DataFrame.csv')\n",
    "df3 = pd.read_csv(r'F:\\Skillovilla Python\\Seniority_level_DataFrame.csv')"
   ]
  },
  {
   "cell_type": "code",
   "execution_count": null,
   "id": "b0d97e18",
   "metadata": {},
   "outputs": [],
   "source": []
  }
 ],
 "metadata": {
  "kernelspec": {
   "display_name": "Python 3 (ipykernel)",
   "language": "python",
   "name": "python3"
  },
  "language_info": {
   "codemirror_mode": {
    "name": "ipython",
    "version": 3
   },
   "file_extension": ".py",
   "mimetype": "text/x-python",
   "name": "python",
   "nbconvert_exporter": "python",
   "pygments_lexer": "ipython3",
   "version": "3.9.7"
  }
 },
 "nbformat": 4,
 "nbformat_minor": 5
}
